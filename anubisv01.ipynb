{
 "cells": [
  {
   "cell_type": "code",
   "execution_count": 1,
   "metadata": {},
   "outputs": [],
   "source": [
    "from sqlalchemy.orm.session import sessionmaker\n",
    "from sqlalchemy import create_engine\n",
    "import pandas as pd\n",
    "import numpy as np\n",
    "import tensorflow as tf\n",
    "import matplotlib.pyplot as plt\n",
    "import json\n",
    "from operator import itemgetter\n",
    "import scipy as sp\n",
    "import sklearn as sk\n",
    "from sklearn.metrics import classification_report\n",
    "import tensorflow_probability as tfp\n",
    "%matplotlib inline\n",
    "\n",
    "tf.random.set_seed(5)"
   ]
  },
  {
   "cell_type": "code",
   "execution_count": 2,
   "metadata": {},
   "outputs": [
    {
     "data": {
      "text/plain": [
       "'2.5.0'"
      ]
     },
     "execution_count": 2,
     "metadata": {},
     "output_type": "execute_result"
    }
   ],
   "source": [
    "tf.__version__"
   ]
  },
  {
   "cell_type": "markdown",
   "metadata": {},
   "source": [
    "# <p style=\"font-size:60px;color:white;font-family:'Courier New'\" >SYSCLIENT 0201 ANALYSIS</p>"
   ]
  },
  {
   "cell_type": "markdown",
   "metadata": {},
   "source": [
    "- Here we shall first load the cleaned and sorted graph in JSON format and then preprocess the data to get a preformatted data.\n",
    "- After that we shall use the preformatted data to generate a data generator pipeline\n",
    "- The new model will be a *MULTI-INPUT* and **SINGLE OUTPUT** model. \n"
   ]
  },
  {
   "cell_type": "code",
   "execution_count": 5,
   "metadata": {},
   "outputs": [],
   "source": [
    "actor_id_to_id_filename = '/mnt/8tb/csenrc/data/ecar/benign/actors_to_id.csv'\n",
    "query_by_id = \"select * from \\\"SysClient0201Events\\\" where \\\"id\\\"=\\'{}\\';\"\n",
    "db_url = 'postgresql+psycopg2://csephase2:csephase@@localhost/csephase2'\n",
    "event_count = 19230658\n",
    "\n",
    "psql_engine = create_engine(db_url)\n",
    "Session = sessionmaker(bind=psql_engine)\n",
    "session = Session()\n",
    "\n",
    "sysclient0201_sorted_graph_path = '/mnt/8tb/csenrc/data/ecar/benign/dirty_sorted_graph201.json' #shahrear: what is in this json file, checking construct_graph.ipynb"
   ]
  },
  {
   "cell_type": "code",
   "execution_count": 6,
   "metadata": {},
   "outputs": [],
   "source": [
    "sysclient_0201_graph = dict()\n",
    "with open(sysclient0201_sorted_graph_path,'r') as graph_file:\n",
    "    sysclient_0201_graph = json.load(graph_file)\n",
    "graph_file.close()"
   ]
  },
  {
   "cell_type": "markdown",
   "metadata": {},
   "source": [
    "# Based on the loaded graph which contains parent->child relationship, we shall construct a graph that contains child->parent relationship.\n",
    "\n",
    "```\n",
    "*We name it as back_graph*\n",
    "```"
   ]
  },
  {
   "cell_type": "code",
   "execution_count": 9,
   "metadata": {},
   "outputs": [
    {
     "name": "stdout",
     "output_type": "stream",
     "text": [
      "8929953 [[8931456, 0.5, 0.8, 0.00010837658677218151], [8931457, 0.5, 0.8, 0.00010837658677218151], [8931458, 0.5, 0.8, 0.00010837954255101674], [8931459, 0.5, 0.8, 0.00010837954255101674], [8931460, 0.5, 0.8, 0.00010838249832985195], [8931461, 0.5, 0.8, 0.00010838545410868716], [8931462, 0.5, 0.8, 0.00010838545410868716], [8931463, 0.5, 0.8, 0.00010838545410868716], [8931464, 0.5, 0.8, 0.00010838545410868716], [8931465, 0.5, 0.8, 0.00010839136566635761], [8931466, 0.5, 0.8, 0.00010839136566635761], [8931467, 0.5, 0.8, 0.00010839432144519283], [8931468, 0.5, 0.8, 0.00010839432144519283], [8931469, 0.5, 0.8, 0.00010839727722402806], [8931470, 0.5, 0.8, 0.00010839727722402806], [8931471, 0.5, 0.8, 0.00010840023300286328], [8931472, 0.5, 0.8, 0.00010840023300286328], [8931474, 0.5, 0.8, 0.00010840614456053371], [8931473, 0.5, 0.8, 0.00010840910033936893], [8931475, 0.5, 0.8, 0.00010840910033936893], [8931476, 0.5, 0.8, 0.00010841205611820415], [8931477, 0.5, 0.8, 0.00010841205611820415], [8931478, 0.5, 0.8, 0.00010841501189703938], [8931479, 0.5, 0.8, 0.00010841501189703938], [8931480, 0.5, 0.8, 0.0001084179676758746], [8931481, 0.5, 0.8, 0.0001084179676758746], [8931482, 0.5, 0.8, 0.0001084209234547098], [8931483, 0.5, 0.8, 0.0001084209234547098], [8931484, 0.5, 0.8, 0.00010842387923354505], [8931485, 0.5, 0.8, 0.00010842387923354505], [8931486, 0.5, 0.8, 0.00010842683501238025], [8931487, 0.5, 0.8, 0.00010842683501238025], [8931488, 0.5, 0.8, 0.00010842683501238025], [8931489, 0.5, 0.8, 0.00010842683501238025], [8931490, 0.5, 0.8, 0.00010842979079121547], [8931491, 0.5, 0.8, 0.00010842979079121547], [8931492, 0.5, 0.8, 0.0001084327465700507], [8931493, 0.5, 0.8, 0.0001084327465700507], [8931494, 0.5, 0.8, 0.0001084327465700507], [8931495, 0.5, 0.8, 0.0001084327465700507], [8931496, 0.5, 0.8, 0.00010850368526209598], [8931497, 0.5, 0.8, 0.00010850368526209598], [8931498, 0.5, 0.8, 0.0001085066410409312], [8931499, 0.5, 0.8, 0.0001085066410409312], [8931500, 0.5, 0.8, 0.00010852437571394252], [8931501, 0.5, 0.8, 0.00010852733149277774], [8931502, 0.5, 0.8, 0.00010852733149277774], [8931503, 0.5, 0.8, 0.00010853028727161297], [8931504, 0.5, 0.8, 0.00010853028727161297], [8931505, 0.5, 0.8, 0.00010853028727161297], [8931506, 0.5, 0.8, 0.00010853028727161297], [8931507, 0.5, 0.8, 0.00010853324305044819], [8931508, 0.5, 0.8, 0.00010853324305044819], [8931509, 0.5, 0.8, 0.00010853619882928339], [8931510, 0.5, 0.8, 0.00010853619882928339], [8931511, 0.5, 0.8, 0.00010853915460811861], [8931512, 0.5, 0.8, 0.00010853915460811861], [8931513, 0.5, 0.8, 0.00010853915460811861], [8931514, 0.5, 0.8, 0.00010853915460811861], [8931515, 0.5, 0.8, 0.00010857462395414125], [8931518, 0.5, 0.8, 0.00010857462395414125], [8931516, 0.5, 0.8, 0.00010859235862715257], [8931517, 0.5, 0.8, 0.00010859235862715257], [8929722, 0.5, 0.9, 0.0001088140420397941], [8931522, 0.5, 0.8, 0.0001088140420397941], [8931523, 0.5, 0.8, 0.0001088140420397941], [8931524, 0.5, 0.8, 0.0001088140420397941], [8984450, 0.5, 0.8, 0.004868685002903728], [8984452, 0.5, 0.8, 0.004868685002903728], [8984453, 0.5, 0.8, 0.004868685002903728], [8984473, 0.5, 0.8, 0.004868685002903728], [8984454, 0.5, 0.8, 0.004868687958682563], [8984455, 0.5, 0.8, 0.004868687958682563], [8984456, 0.5, 0.8, 0.004868687958682563], [8984457, 0.5, 0.8, 0.004868687958682563], [8984458, 0.5, 0.8, 0.004868687958682563], [8984459, 0.5, 0.8, 0.0048686938702402335], [8984460, 0.5, 0.8, 0.0048686938702402335], [8984461, 0.5, 0.8, 0.0048686938702402335], [8984462, 0.5, 0.8, 0.0048686938702402335], [8984463, 0.5, 0.8, 0.0048686938702402335], [8984464, 0.5, 0.8, 0.0048686938702402335], [8984465, 0.5, 0.8, 0.0048686938702402335], [8984474, 0.5, 0.8, 0.0048686938702402335], [8984466, 0.5, 0.8, 0.004868696826019069], [8984467, 0.5, 0.8, 0.004868696826019069], [8984468, 0.5, 0.8, 0.004868696826019069], [8984469, 0.5, 0.8, 0.004868696826019069], [8984470, 0.5, 0.8, 0.004868696826019069], [8984471, 0.5, 0.8, 0.004868699781797904], [8984472, 0.5, 0.8, 0.004868699781797904], [8984475, 0.5, 0.8, 0.004868699781797904], [8984476, 0.5, 0.8, 0.004868699781797904], [8984477, 0.5, 0.8, 0.004868699781797904], [8984478, 0.5, 0.8, 0.004868699781797904], [8984479, 0.5, 0.8, 0.004868699781797904], [8984480, 0.5, 0.8, 0.004868699781797904], [8984481, 0.5, 0.8, 0.004868699781797904], [8984482, 0.5, 0.8, 0.004868699781797904], [8984483, 0.5, 0.8, 0.004868699781797904], [8984484, 0.5, 0.8, 0.004868699781797904], [8984485, 0.5, 0.8, 0.004868702737576739], [8984486, 0.5, 0.8, 0.004868702737576739], [8984487, 0.5, 0.8, 0.004868702737576739], [8984488, 0.5, 0.8, 0.004868702737576739], [8985644, 0.25, 0.3, 0.00486870864913441], [8984489, 0.5, 0.8, 0.004868711604913245], [8984490, 0.5, 0.8, 0.004868711604913245], [8984491, 0.5, 0.8, 0.004868717516470915], [8984492, 0.5, 0.8, 0.004868717516470915], [8984493, 0.5, 0.8, 0.004868726383807421], [8984494, 0.5, 0.8, 0.004868726383807421], [8984368, 0.25, 0.3, 0.004868729339586256], [8984495, 0.5, 0.8, 0.004868747074259267], [8984496, 0.5, 0.8, 0.004868750030038102], [8985095, 0.25, 0.3, 0.004868953978777733], [8985200, 0.25, 0.3, 0.004868956934556568], [8984503, 0.5, 0.8, 0.004869030829027448], [8984504, 0.5, 0.8, 0.004869030829027448], [8984505, 0.5, 0.8, 0.004869140192844352], [8984506, 0.5, 0.8, 0.004869140192844352], [8985096, 0.25, 0.3, 0.004869143148623187], [8984509, 0.5, 0.8, 0.004869152015959693], [8984513, 0.5, 0.8, 0.004869152015959693], [8984510, 0.5, 0.8, 0.004869154971738528], [8984511, 0.5, 0.8, 0.004869154971738528], [8985187, 0.25, 0.3, 0.004869160883296198], [8984514, 0.5, 0.8, 0.00486917861796921], [8984589, 0.5, 0.8, 0.00486917861796921], [8985755, 0.25, 0.3, 0.004869181573748045], [8984590, 0.5, 0.8, 0.00486918452952688], [8984591, 0.5, 0.8, 0.00486918452952688], [8985767, 0.25, 0.3, 0.004869190441084551], [8984592, 0.5, 0.8, 0.004869196352642221], [8984593, 0.5, 0.8, 0.004869196352642221], [8985779, 0.25, 0.3, 0.004869199308421056], [8984594, 0.5, 0.8, 0.004869205219978727], [8984595, 0.5, 0.8, 0.004869205219978727], [8984596, 0.5, 0.8, 0.004869205219978727], [8984597, 0.5, 0.8, 0.004869205219978727], [8984598, 0.5, 0.8, 0.004869205219978727], [8984599, 0.5, 0.8, 0.004869205219978727], [8984600, 0.5, 0.8, 0.004869205219978727], [8984601, 0.5, 0.8, 0.004869205219978727], [8984602, 0.5, 0.8, 0.004869211131536397], [8984603, 0.5, 0.8, 0.004869211131536397], [8984604, 0.5, 0.8, 0.004869211131536397], [8984605, 0.5, 0.8, 0.004869211131536397], [8985152, 0.25, 0.3, 0.0048692140873152325], [8984606, 0.5, 0.8, 0.004869217043094068], [8984607, 0.5, 0.8, 0.004869217043094068], [8985153, 0.25, 0.3, 0.004869219998872903], [8984608, 0.5, 0.8, 0.004869228866209408], [8984609, 0.5, 0.8, 0.004869228866209408], [8984566, 0.25, 0.3, 0.004869231821988243], [8985721, 0.25, 0.3, 0.004869237733545914], [8984610, 0.5, 0.8, 0.004869243645103585], [8984611, 0.5, 0.8, 0.004869243645103585], [8984612, 0.5, 0.8, 0.004869243645103585], [8984613, 0.5, 0.8, 0.004869243645103585], [8984614, 0.5, 0.8, 0.004869243645103585], [8984618, 0.5, 0.8, 0.004869243645103585], [8984620, 0.5, 0.8, 0.004869243645103585], [8984621, 0.5, 0.8, 0.004869243645103585], [8984622, 0.5, 0.8, 0.004869243645103585], [8984623, 0.5, 0.8, 0.004869243645103585], [8984624, 0.5, 0.8, 0.004869243645103585], [8984625, 0.5, 0.8, 0.004869243645103585], [8984626, 0.5, 0.8, 0.004869243645103585], [8984646, 0.5, 0.8, 0.004869243645103585], [8985772, 0.25, 0.3, 0.00486924660088242], [8984627, 0.5, 0.8, 0.00486925251244009], [8984628, 0.5, 0.8, 0.00486925251244009], [8985189, 0.25, 0.3, 0.004869367787814664], [8984643, 0.5, 0.8, 0.004869373699372334], [8984644, 0.5, 0.8, 0.004869373699372334], [8985094, 0.25, 0.3, 0.00486938847826651], [8985202, 0.25, 0.3, 0.0048693914340453455], [8984645, 0.5, 0.8, 0.004869429859170203], [8984648, 0.5, 0.8, 0.004869429859170203], [8985794, 0.25, 0.3, 0.004869435770727874], [8984649, 0.5, 0.8, 0.00486944463806438], [8984664, 0.5, 0.8, 0.00486944463806438], [8985709, 0.25, 0.3, 0.004869447593843215], [8984650, 0.5, 0.8, 0.0048694535054008845], [8984651, 0.5, 0.8, 0.0048694535054008845], [8984652, 0.5, 0.8, 0.00486945646117972], [8984654, 0.5, 0.8, 0.004869465328516226], [8984660, 0.5, 0.8, 0.004869577648111964], [8984582, 0.25, 0.3, 0.004869802287303442], [8984662, 0.5, 0.8, 0.004869870270216651], [8984663, 0.5, 0.8, 0.004869870270216651], [8984572, 0.25, 0.3, 0.004869888004889663], [8984573, 0.25, 0.3, 0.004869893916447333], [8984574, 0.25, 0.3, 0.004869893916447333], [8984619, 0.25, 0.3, 0.004870080130513952], [8984578, 0.25, 0.3, 0.004870083086292787], [8984579, 0.25, 0.3, 0.004870083086292787], [8984580, 0.25, 0.3, 0.004870086042071622], [8985684, 0.25, 0.3, 0.004870094909408128], [8984667, 0.5, 0.8, 0.004870115599859975], [8984668, 0.5, 0.8, 0.004870115599859975], [8985678, 0.25, 0.3, 0.004870606259146621], [8984717, 0.5, 0.8, 0.004871025979741222], [8984718, 0.5, 0.8, 0.004871025979741222], [8985749, 0.25, 0.3, 0.004871025979741222], [8984719, 0.5, 0.8, 0.004871055537529575], [8984720, 0.5, 0.8, 0.004871055537529575], [8985810, 0.25, 0.3, 0.004871212193807841], [8984740, 0.5, 0.8, 0.004871265397826875], [8984741, 0.5, 0.8, 0.004871265397826875], [8985674, 0.25, 0.3, 0.0048712683536057105], [8984744, 0.5, 0.8, 0.004871442744556988], [8984789, 0.5, 0.8, 0.004871442744556988], [8985645, 0.25, 0.3, 0.0048714457003358235], [8984745, 0.5, 0.8, 0.004871448656114659], [8984746, 0.5, 0.8, 0.004871448656114659], [8984747, 0.5, 0.8, 0.004871451611893494], [8984748, 0.5, 0.8, 0.004871451611893494], [8985726, 0.25, 0.3, 0.004871457523451164], [8984751, 0.5, 0.8, 0.004871519594806704], [8984752, 0.5, 0.8, 0.004871519594806704], [8985670, 0.25, 0.3, 0.0048715225505855395], [8984753, 0.5, 0.8, 0.004871531417922044], [8984754, 0.5, 0.8, 0.004871531417922044], [8984757, 0.5, 0.8, 0.004871549152595057], [8984758, 0.5, 0.8, 0.004871549152595057], [8984760, 0.5, 0.8, 0.004871549152595057], [8984761, 0.5, 0.8, 0.004871552108373891], [8985756, 0.25, 0.3, 0.004871552108373891], [8984762, 0.5, 0.8, 0.004871560975710397], [8984763, 0.5, 0.8, 0.004871560975710397], [8984764, 0.5, 0.8, 0.004871560975710397], [8984765, 0.5, 0.8, 0.004871560975710397], [8984766, 0.5, 0.8, 0.004871560975710397], [8984767, 0.5, 0.8, 0.004871563931489232], [8984769, 0.5, 0.8, 0.004871563931489232], [8984796, 0.5, 0.8, 0.004871818128469061], [8984797, 0.5, 0.8, 0.004871818128469061], [8984798, 0.5, 0.8, 0.004871818128469061]]\n",
      "[8931456, 0.5, 0.8, 0.00010837658677218151]\n",
      "8931456\n"
     ]
    }
   ],
   "source": [
    "back_graph = dict()\n",
    "printi = 0\n",
    "for key in sysclient_0201_graph:\n",
    "    if printi == 0:\n",
    "        print (key, sysclient_0201_graph[key])\n",
    "        printi = 1\n",
    "    children = sysclient_0201_graph[key]\n",
    "    for child in children:\n",
    "        if printi == 1:\n",
    "            print (child)\n",
    "            print (child[0])\n",
    "            printi = 2\n",
    "        back_graph[child[0]] = int(key)"
   ]
  },
  {
   "cell_type": "markdown",
   "metadata": {},
   "source": [
    "# Now it is time to perform a massive preprocessing operation\n",
    "\n",
    "- Consider a dictionary with the keys that represent the parent nodes.\n",
    "- The entries of this dict is another dictionary which contains the child nodes as keys \n",
    "- In this nested dictionary, each child is mapped to a numpy vector of length 13 \n",
    "- The first 3 entries contain the child object type, action type and time difference between parent and child event.\n",
    "- The next 5 entries contain the difference between expected number of events at that time and actual number of events at that time. This can be explained from the definition of `Poisson_Distribution`. Please refer to the paper for detailed discussion. \n",
    "- The next 5 entries contain the wait time for the next event. This again can be explained from the `Poisson_Distribution`. Refer to paper for explanation details. \n",
    "\n",
    "Once this preprocessing is complete we start writing the generator."
   ]
  },
  {
   "cell_type": "code",
   "execution_count": 10,
   "metadata": {},
   "outputs": [],
   "source": [
    "def preprocess_adjacency_list(adjacency_list):\n",
    "    \"\"\"This will return a dict that contains the preprocessed data.\n",
    "\n",
    "    Args:\n",
    "        adjacency_list ([list]): Adjacency list extracted from the dirty sorted graph.\n",
    "    \"\"\"\n",
    "\n",
    "    adjacency_dict = dict()\n",
    "\n",
    "    if len(adjacency_list) == 0:\n",
    "        return adjacency_dict\n",
    "\n",
    "    num_process_open = 0\n",
    "    num_process_create = 0\n",
    "    num_file = 0\n",
    "    num_flow = 0\n",
    "    num_shell = 0\n",
    "\n",
    "    for node in adjacency_list: #shahrear: what is in this node? Each child?\n",
    "\n",
    "        adjacency_dict[node[0]] = np.zeros(13)\n",
    "\n",
    "        if node[1] == 0.5 and node[2] == 0.1:\n",
    "            num_process_create +=1\n",
    "        elif node[1] == 0.5 and node[2] == 0.8:\n",
    "            num_process_open += 1\n",
    "        elif node[1] == 0.25:\n",
    "            num_file +=1\n",
    "        elif node[1] == 0.75:\n",
    "            num_shell += 1\n",
    "        elif node[1] == 1.0:\n",
    "            num_flow += 1\n",
    "\n",
    "        adjacency_dict[node[0]][0] = node[1]\n",
    "        adjacency_dict[node[0]][1] = node[2]\n",
    "        adjacency_dict[node[0]][2] = node[3]\n",
    "\n",
    "    delta_time = adjacency_list[-1][3]\n",
    "\n",
    "    if delta_time == 0: # Just a precaution to avoid floating point error\n",
    "        delta_time = 0.000001\n",
    "\n",
    "    mean_process_open = num_process_open/delta_time\n",
    "    mean_process_create = num_process_create/delta_time\n",
    "    mean_file = num_file/delta_time\n",
    "    mean_flow = num_flow/delta_time\n",
    "    mean_shell = num_shell/delta_time\n",
    "\n",
    "    mean_count = np.array([mean_process_open, mean_process_create, mean_file, mean_flow, mean_shell])\n",
    "    event_count = np.zeros(5) # event count of process_open, process_create, file, flow, shell \n",
    "\n",
    "    #print(mean_count)\n",
    "    \n",
    "    prev_popen_time = 0\n",
    "    prev_pcreate_time = 0 \n",
    "    prev_file_time = 0\n",
    "    prev_shell_time = 0\n",
    "    prev_flow_time = 0\n",
    "    \n",
    "    \n",
    "    for node in adjacency_list:\n",
    "\n",
    "        diff_count = np.zeros(5)\n",
    "        probs = np.zeros(5)\n",
    "    \n",
    "        if node[1] == 0.5 and node[2] == 0.1:\n",
    "            #This is process create: index 1\n",
    "            probs[1] = 1 - np.exp(-(mean_process_create*(node[3] - prev_pcreate_time)))\n",
    "\n",
    "            probs[0] = np.exp(-(mean_process_open*(node[3] - prev_popen_time)))\n",
    "            probs[2] = np.exp(-(mean_file*(node[3] - prev_file_time)))\n",
    "            probs[3] = np.exp(-(mean_flow*(node[3] - prev_flow_time)))\n",
    "            probs[4] = np.exp(-(mean_shell*(node[3] - prev_shell_time)))\n",
    "\n",
    "            prev_pcreate_time = node[3]\n",
    "            event_count[1] +=1\n",
    "\n",
    "        elif node[1] == 0.5 and node[2] == 0.8:\n",
    "            #This is process open: index 0 \n",
    "            probs[0] = 1 - np.exp(-(mean_process_open*(node[3] - prev_popen_time)))\n",
    "            \n",
    "            probs[1] = np.exp(-(mean_process_create*(node[3] - prev_pcreate_time)))\n",
    "            probs[2] = np.exp(-(mean_file*(node[3] - prev_file_time)))\n",
    "            probs[3] = np.exp(-(mean_flow*(node[3] - prev_flow_time)))\n",
    "            probs[4] = np.exp(-(mean_shell*(node[3] - prev_shell_time)))\n",
    "\n",
    "            prev_popen_time = node[3]\n",
    "            event_count[0] += 1\n",
    "\n",
    "        elif node[1] == 0.25:\n",
    "            # This is for file: index 2\n",
    "            probs[2] = 1 - np.exp(-(mean_file*(node[3] - prev_file_time)))\n",
    "\n",
    "            probs[0] = np.exp(-(mean_process_open*(node[3] - prev_popen_time)))\n",
    "            probs[1] = np.exp(-(mean_process_create*(node[3] - prev_pcreate_time)))\n",
    "            probs[3] = np.exp(-(mean_flow*(node[3] - prev_flow_time)))\n",
    "            probs[4] = np.exp(-(mean_shell*(node[3] - prev_shell_time)))\n",
    "\n",
    "            prev_file_time = node[3]\n",
    "            event_count[2] +=1\n",
    "\n",
    "        elif node[1] == 0.75:\n",
    "            # This is for shell: index 4\n",
    "            probs[4] = 1 - np.exp(-(mean_shell*(node[3] - prev_shell_time)))\n",
    "\n",
    "            probs[2] = np.exp(-(mean_file*(node[3] - prev_file_time)))\n",
    "            probs[0] = np.exp(-(mean_process_open*(node[3] - prev_popen_time)))\n",
    "            probs[1] = np.exp(-(mean_process_create*(node[3] - prev_pcreate_time)))\n",
    "            probs[3] = np.exp(-(mean_flow*(node[3] - prev_flow_time)))\n",
    "            \n",
    "            prev_shell_time = node[3]\n",
    "            event_count[4] += 1\n",
    "\n",
    "        elif node[1] == 1.0:\n",
    "            # This is for flow: index 3\n",
    "            probs[3] = 1 - np.exp(-(mean_flow*(node[3] - prev_flow_time)))\n",
    "\n",
    "            probs[4] = np.exp(-(mean_shell*(node[3] - prev_shell_time)))\n",
    "            probs[2] = np.exp(-(mean_file*(node[3] - prev_file_time)))\n",
    "            probs[0] = np.exp(-(mean_process_open*(node[3] - prev_popen_time)))\n",
    "            probs[1] = np.exp(-(mean_process_create*(node[3] - prev_pcreate_time)))\n",
    "            \n",
    "            prev_flow_time = node[3]\n",
    "            event_count[3] += 1\n",
    "\n",
    "        diff_count = (mean_count*node[3]) - event_count\n",
    "        adjacency_dict[node[0]][3:8] = diff_count\n",
    "        adjacency_dict[node[0]][8:13] = probs\n",
    "\n",
    "    \n",
    "    return adjacency_dict"
   ]
  },
  {
   "cell_type": "code",
   "execution_count": 11,
   "metadata": {},
   "outputs": [
    {
     "name": "stdout",
     "output_type": "stream",
     "text": [
      "{2: array([ 0.5,  0.1,  0. ,  0. , -1. ,  0. ,  0. ,  0. ,  1. ,  0. ,  1. ,\n",
      "        1. ,  1. ]), 37150: array([0.5       , 0.1       , 0.00469963, 0.        , 1.        ,\n",
      "       0.        , 0.        , 0.        , 1.        , 0.95021293,\n",
      "       1.        , 1.        , 1.        ]), 37151: array([0.5       , 0.1       , 0.00469963, 0.        , 0.        ,\n",
      "       0.        , 0.        , 0.        , 1.        , 0.        ,\n",
      "       1.        , 1.        , 1.        ])}\n"
     ]
    }
   ],
   "source": [
    "print(preprocess_adjacency_list(sysclient_0201_graph['1']))"
   ]
  },
  {
   "cell_type": "code",
   "execution_count": 12,
   "metadata": {},
   "outputs": [],
   "source": [
    "preprocessed_sysclient_0201_graph = dict()\n",
    "for key in sysclient_0201_graph:\n",
    "    if int(key) != 0:\n",
    "        children = sysclient_0201_graph[key]\n",
    "        preprocessed_sysclient_0201_graph[int(key)] = preprocess_adjacency_list(children)"
   ]
  },
  {
   "cell_type": "code",
   "execution_count": 13,
   "metadata": {},
   "outputs": [],
   "source": [
    "# handling the corner case of 0 in our graph \n",
    "preprocessed_sysclient_0201_graph[0] = dict()\n",
    "children = sysclient_0201_graph['0']\n",
    "for child in children:\n",
    "    preprocessed_sysclient_0201_graph[0][child[0]] = np.hstack([np.array([child[1],child[2],0]), np.zeros(10)]) #shahrear: why are we preprocessing before the trace is generated?"
   ]
  },
  {
   "cell_type": "markdown",
   "metadata": {},
   "source": [
    "# Now the preprocessing is done. Let's load the bad boys (aka malicious data points)"
   ]
  },
  {
   "cell_type": "code",
   "execution_count": 14,
   "metadata": {},
   "outputs": [],
   "source": [
    "label_file = '/mnt/8tb/csenrc/data/ecar/benign/labels.csv'\n",
    "label_df = pd.read_csv(label_file)\n",
    "sysclient201_labels = label_df[label_df['hostname']=='SysClient0201.systemia.com']"
   ]
  },
  {
   "cell_type": "code",
   "execution_count": 15,
   "metadata": {},
   "outputs": [],
   "source": [
    "malicious_events = dict()\n",
    "query_event_id_actor_id = \"select * from \\\"SysClient0201Events\\\" where \\\"actorID\\\"=\\'{}\\' and \\\"event_id\\\"=\\'{}\\';\"\n",
    "for idx,row in sysclient201_labels.iterrows():\n",
    "    if row['object'] in ['PROCESS','FILE','SHELL']:\n",
    "        result_set = session.execute(query_event_id_actor_id.format(row['actorID'],row['id']))\n",
    "        for result in result_set:\n",
    "            malicious_events[result.id] = result\n",
    "    elif row['object'] == 'FLOW' and row['action']=='MESSAGE':\n",
    "        result_set = session.execute(query_event_id_actor_id.format(row['actorID'],row['id']))\n",
    "        for result in result_set:\n",
    "            malicious_events[result.id] = result"
   ]
  },
  {
   "cell_type": "code",
   "execution_count": 16,
   "metadata": {},
   "outputs": [
    {
     "name": "stdout",
     "output_type": "stream",
     "text": [
      "22919\n"
     ]
    }
   ],
   "source": [
    "print(len(malicious_events))"
   ]
  },
  {
   "cell_type": "code",
   "execution_count": 17,
   "metadata": {},
   "outputs": [],
   "source": [
    "def get_trace(start_node):\n",
    "    trace = []\n",
    "    temp_node = start_node\n",
    "    trace.append(temp_node)\n",
    "    while True:\n",
    "        if temp_node in back_graph: #shahrear: when it is false? what about trace length l?\n",
    "            temp_node = back_graph[temp_node]\n",
    "            trace.append(temp_node)\n",
    "        else:\n",
    "            break\n",
    "            \n",
    "    return trace"
   ]
  },
  {
   "cell_type": "code",
   "execution_count": 18,
   "metadata": {},
   "outputs": [
    {
     "name": "stdout",
     "output_type": "stream",
     "text": [
      "Average trace length: 19.077926611108687\n",
      "Maximum Length of Trace: 22\n"
     ]
    }
   ],
   "source": [
    "malicious_event_traces = []\n",
    "\n",
    "for node in malicious_events:\n",
    "    malicious_event_traces.append(get_trace(node))\n",
    "\n",
    "\n",
    "num = len(malicious_event_traces)\n",
    "total = 0\n",
    "max_len = -1\n",
    "for trace in malicious_event_traces:\n",
    "    total += len(trace)\n",
    "    if len(trace)>max_len:\n",
    "        max_len = len(trace)\n",
    "print(\"Average trace length: {}\".format(total/num))\n",
    "print(\"Maximum Length of Trace: {}\".format(max_len))"
   ]
  },
  {
   "cell_type": "code",
   "execution_count": 19,
   "metadata": {},
   "outputs": [
    {
     "name": "stdout",
     "output_type": "stream",
     "text": [
      "Average benign trace length:14.516562\n",
      "Maximum Benign Trace Length:35\n"
     ]
    }
   ],
   "source": [
    "benign_event_traces = []\n",
    "\n",
    "count_benign_trace = 0\n",
    "start_idx = 7000000\n",
    "while count_benign_trace<500000:\n",
    "    #get a random index\n",
    "    rand_index = np.random.randint(start_idx, high = event_count)\n",
    "    if rand_index not in malicious_events:\n",
    "        if rand_index in back_graph:\n",
    "            derived_trace = get_trace(rand_index)\n",
    "            if derived_trace[-1] == 0:\n",
    "                benign_event_traces.append(derived_trace)\n",
    "                count_benign_trace+=1\n",
    "\n",
    "\n",
    "benign_len = 0\n",
    "benign_max_len = -1\n",
    "for trace in benign_event_traces:\n",
    "    benign_len += len(trace)\n",
    "    if len(trace)>benign_max_len:\n",
    "        benign_max_len = len(trace)\n",
    "        \n",
    "print(\"Average benign trace length:{}\".format(benign_len/len(benign_event_traces)))\n",
    "print(\"Maximum Benign Trace Length:{}\".format(benign_max_len))"
   ]
  },
  {
   "cell_type": "markdown",
   "metadata": {},
   "source": [
    "# We have the Benign Traces and The Malicious Traces. There are 22919 Malicious Trace Samples With Average length of 19.0779266. On the other hand, there are 500000 benign trace samples with average length of 14.521834. \n",
    "\n",
    "- We are going to split them into train and test set and then write a generator to produce batches for deep learning model"
   ]
  },
  {
   "cell_type": "code",
   "execution_count": 20,
   "metadata": {},
   "outputs": [],
   "source": [
    "train_x_benign = benign_event_traces[:400000]\n",
    "test_x_benign = benign_event_traces[400000:]\n",
    "\n",
    "train_x_malicious = malicious_event_traces[:16000]\n",
    "test_x_malicious = malicious_event_traces[16000:]"
   ]
  },
  {
   "cell_type": "code",
   "execution_count": 21,
   "metadata": {},
   "outputs": [],
   "source": [
    "def transform_trace(trace, cutoff=8):\n",
    "    numeric_trace = np.zeros((cutoff,13)) # Length of the trace and 13 corresponding points for each node\n",
    "    \n",
    "    for k in range(len(trace)):\n",
    "        if trace[k] in back_graph:\n",
    "            parent = back_graph[trace[k]]\n",
    "            numeric_trace[k] = preprocessed_sysclient_0201_graph[parent][trace[k]]    \n",
    "\n",
    "        if k==cutoff-1:\n",
    "            break\n",
    "    \n",
    "    return numeric_trace"
   ]
  },
  {
   "cell_type": "code",
   "execution_count": 22,
   "metadata": {},
   "outputs": [],
   "source": [
    "def train_generator( cutoff=8, batch_size = 32):\n",
    "    while True:\n",
    "        labels= np.random.randint(2,size=batch_size)\n",
    "        num_malicious = np.sum(labels)\n",
    "        num_benign = batch_size - num_malicious\n",
    "        \n",
    "        benign_data_indices = np.random.randint(0,high=400000, size = num_benign)\n",
    "        malicious_data_indices = np.random.randint(0, high = 16000, size = num_malicious)\n",
    "\n",
    "        benign_idx = 0\n",
    "        malicious_idx = 0\n",
    "\n",
    "        trace_cutoff = cutoff\n",
    "        features = 13\n",
    "\n",
    "        data = np.zeros((batch_size, trace_cutoff, features))\n",
    "        idx = 0\n",
    "        for label in labels:\n",
    "            if label ==0:\n",
    "                data[idx] = transform_trace(benign_event_traces[benign_data_indices[benign_idx]],cutoff=trace_cutoff)\n",
    "                benign_idx += 1\n",
    "                idx+=1\n",
    "            elif label == 1:\n",
    "                data[idx] = transform_trace(malicious_event_traces[malicious_data_indices[malicious_idx]],cutoff=trace_cutoff)\n",
    "                malicious_idx += 1\n",
    "                idx +=1 \n",
    "        \n",
    "        yield [data[:,:,:3],data[:,:,3:]], labels"
   ]
  },
  {
   "cell_type": "markdown",
   "metadata": {},
   "source": [
    "# Now we shall define the baseline model. The model consists of LSTM layers for feature extraction followed by Dense Classification Layer"
   ]
  },
  {
   "cell_type": "code",
   "execution_count": 23,
   "metadata": {},
   "outputs": [],
   "source": [
    "from tensorflow.keras import Model\n",
    "from tensorflow.keras import layers\n",
    "from tensorflow.keras import Input"
   ]
  },
  {
   "cell_type": "code",
   "execution_count": 24,
   "metadata": {},
   "outputs": [],
   "source": [
    "def multi_head_lstm_model(input_shape1, input_shape2):\n",
    "    input_layer1 = Input(shape = input_shape1)\n",
    "    input_layer2 = Input(shape = input_shape2)\n",
    "    \n",
    "    x1 = layers.LSTM(32, return_sequences=True)(input_layer1)\n",
    "    x2 = layers.LSTM(16, return_sequences=True)(input_layer2)\n",
    "\n",
    "    x1 = layers.Flatten()(x1)\n",
    "    x2 = layers.Flatten()(x2)\n",
    "\n",
    "    x = layers.Concatenate()([x1,x2])\n",
    "\n",
    "    x = layers.Dense(32,activation='relu')(x)\n",
    "    x = layers.Dropout(0.25)(x)\n",
    "    x = layers.Dense(16,activation='relu')(x)\n",
    "    output_layer = layers.Dense(1, activation='sigmoid')(x)\n",
    "\n",
    "    model = Model([input_layer1, input_layer2], output_layer)\n",
    "    model.summary()\n",
    "\n",
    "    return model"
   ]
  },
  {
   "cell_type": "code",
   "execution_count": 25,
   "metadata": {},
   "outputs": [
    {
     "name": "stdout",
     "output_type": "stream",
     "text": [
      "Model: \"model\"\n",
      "__________________________________________________________________________________________________\n",
      "Layer (type)                    Output Shape         Param #     Connected to                     \n",
      "==================================================================================================\n",
      "input_1 (InputLayer)            [(None, 4, 3)]       0                                            \n",
      "__________________________________________________________________________________________________\n",
      "input_2 (InputLayer)            [(None, 4, 10)]      0                                            \n",
      "__________________________________________________________________________________________________\n",
      "lstm (LSTM)                     (None, 4, 32)        4608        input_1[0][0]                    \n",
      "__________________________________________________________________________________________________\n",
      "lstm_1 (LSTM)                   (None, 4, 16)        1728        input_2[0][0]                    \n",
      "__________________________________________________________________________________________________\n",
      "flatten (Flatten)               (None, 128)          0           lstm[0][0]                       \n",
      "__________________________________________________________________________________________________\n",
      "flatten_1 (Flatten)             (None, 64)           0           lstm_1[0][0]                     \n",
      "__________________________________________________________________________________________________\n",
      "concatenate (Concatenate)       (None, 192)          0           flatten[0][0]                    \n",
      "                                                                 flatten_1[0][0]                  \n",
      "__________________________________________________________________________________________________\n",
      "dense (Dense)                   (None, 32)           6176        concatenate[0][0]                \n",
      "__________________________________________________________________________________________________\n",
      "dropout (Dropout)               (None, 32)           0           dense[0][0]                      \n",
      "__________________________________________________________________________________________________\n",
      "dense_1 (Dense)                 (None, 16)           528         dropout[0][0]                    \n",
      "__________________________________________________________________________________________________\n",
      "dense_2 (Dense)                 (None, 1)            17          dense_1[0][0]                    \n",
      "==================================================================================================\n",
      "Total params: 13,057\n",
      "Trainable params: 13,057\n",
      "Non-trainable params: 0\n",
      "__________________________________________________________________________________________________\n"
     ]
    }
   ],
   "source": [
    "trace_length = 4\n",
    "trace_dimension1 = 3\n",
    "trace_dimension2 = 10\n",
    "baseline_model = multi_head_lstm_model((trace_length,trace_dimension1),(trace_length,trace_dimension2))\n",
    "opt = tf.keras.optimizers.Adam(learning_rate=0.001)\n",
    "baseline_model.compile(optimizer=opt, loss = 'binary_crossentropy', metrics=['accuracy'])"
   ]
  },
  {
   "cell_type": "code",
   "execution_count": 26,
   "metadata": {},
   "outputs": [],
   "source": [
    "train_gen = train_generator(cutoff=4, batch_size=1024)"
   ]
  },
  {
   "cell_type": "code",
   "execution_count": 27,
   "metadata": {},
   "outputs": [
    {
     "name": "stderr",
     "output_type": "stream",
     "text": [
      "/home/monowar/anaconda3/envs/envphase2/lib/python3.9/site-packages/tensorflow/python/keras/engine/training.py:1940: UserWarning: `Model.fit_generator` is deprecated and will be removed in a future version. Please use `Model.fit`, which supports generators.\n",
      "  warnings.warn('`Model.fit_generator` is deprecated and '\n"
     ]
    },
    {
     "name": "stdout",
     "output_type": "stream",
     "text": [
      "Epoch 1/10\n",
      "10/10 [==============================] - 3s 27ms/step - loss: 0.6106 - accuracy: 0.8291\n",
      "Epoch 2/10\n",
      "10/10 [==============================] - 0s 27ms/step - loss: 0.4494 - accuracy: 0.9640\n",
      "Epoch 3/10\n",
      "10/10 [==============================] - 0s 26ms/step - loss: 0.2975 - accuracy: 0.9824\n",
      "Epoch 4/10\n",
      "10/10 [==============================] - 0s 26ms/step - loss: 0.1674 - accuracy: 0.9875\n",
      "Epoch 5/10\n",
      "10/10 [==============================] - 0s 23ms/step - loss: 0.0881 - accuracy: 0.9888\n",
      "Epoch 6/10\n",
      "10/10 [==============================] - 0s 26ms/step - loss: 0.0520 - accuracy: 0.9930\n",
      "Epoch 7/10\n",
      "10/10 [==============================] - 0s 26ms/step - loss: 0.0324 - accuracy: 0.9956\n",
      "Epoch 8/10\n",
      "10/10 [==============================] - 0s 23ms/step - loss: 0.0224 - accuracy: 0.9954\n",
      "Epoch 9/10\n",
      "10/10 [==============================] - 0s 24ms/step - loss: 0.0187 - accuracy: 0.9957\n",
      "Epoch 10/10\n",
      "10/10 [==============================] - 0s 23ms/step - loss: 0.0162 - accuracy: 0.9964\n"
     ]
    }
   ],
   "source": [
    "history = baseline_model.fit_generator(train_gen, steps_per_epoch=10, epochs=10)"
   ]
  },
  {
   "cell_type": "code",
   "execution_count": 28,
   "metadata": {},
   "outputs": [],
   "source": [
    "malicious_event_count_in_graph = 22919\n",
    "def get_test_data():\n",
    "    total_count = (malicious_event_count_in_graph-16000)+ 100000\n",
    "    data = np.zeros((total_count, trace_length, 13))\n",
    "    labels = np.hstack(( np.ones((malicious_event_count_in_graph-16000)), np.zeros(100000) ))\n",
    "    \n",
    "    idx = 0\n",
    "    \n",
    "    for i in range(16000, malicious_event_count_in_graph, 1):\n",
    "        data[idx] = transform_trace(malicious_event_traces[i],cutoff=trace_length)\n",
    "        idx+=1\n",
    "    \n",
    "    for i in range(400000,500000,1):\n",
    "        data[idx] = transform_trace(benign_event_traces[i],cutoff=trace_length)\n",
    "        idx+=1\n",
    "\n",
    "    return [data[:,:,:3],data[:,:,3:]],labels"
   ]
  },
  {
   "cell_type": "code",
   "execution_count": 29,
   "metadata": {},
   "outputs": [],
   "source": [
    "x_test, y_test = get_test_data()"
   ]
  },
  {
   "cell_type": "code",
   "execution_count": 30,
   "metadata": {},
   "outputs": [
    {
     "name": "stdout",
     "output_type": "stream",
     "text": [
      "              precision    recall  f1-score   support\n",
      "\n",
      "         0.0       1.00      1.00      1.00    100000\n",
      "         1.0       0.99      1.00      0.99      6919\n",
      "\n",
      "    accuracy                           1.00    106919\n",
      "   macro avg       0.99      1.00      1.00    106919\n",
      "weighted avg       1.00      1.00      1.00    106919\n",
      "\n"
     ]
    }
   ],
   "source": [
    "y_pred = baseline_model.predict(x_test)\n",
    "y_pred_bool = y_pred.round()\n",
    "print(classification_report(y_test, y_pred_bool))  #shahrear: where is lstm1 and 2 and bnn?"
   ]
  },
  {
   "cell_type": "markdown",
   "metadata": {},
   "source": [
    "# <p style=\"font-size:60px;color:white;font-family:'Courier New'\" >SYSCLIENT 0501 ANALYSIS</p>"
   ]
  },
  {
   "cell_type": "code",
   "execution_count": 31,
   "metadata": {},
   "outputs": [],
   "source": [
    "sysclient0501_sorted_graph_path = '/mnt/8tb/csenrc/data/ecar/benign/dirty_sorted_graph501.json'\n",
    "sysclient_0501_graph = dict()\n",
    "with open(sysclient0501_sorted_graph_path,'r') as graph_file:\n",
    "    sysclient_0501_graph = json.load(graph_file)\n",
    "graph_file.close()"
   ]
  },
  {
   "cell_type": "code",
   "execution_count": 32,
   "metadata": {},
   "outputs": [],
   "source": [
    "back_graph_501 = dict()\n",
    "for key in sysclient_0501_graph:\n",
    "    children = sysclient_0501_graph[key]\n",
    "    for child in children:\n",
    "        back_graph_501[child[0]] = int(key)"
   ]
  },
  {
   "cell_type": "code",
   "execution_count": 33,
   "metadata": {},
   "outputs": [],
   "source": [
    "preprocessed_sysclient_0501_graph = dict()\n",
    "for key in sysclient_0501_graph:\n",
    "    if int(key) != 0:\n",
    "        preprocessed_sysclient_0501_graph[int(key)] = preprocess_adjacency_list(sysclient_0501_graph[key])\n",
    "\n",
    "\n",
    "preprocessed_sysclient_0501_graph[0] = dict()\n",
    "children = sysclient_0501_graph['0']\n",
    "for child in children:\n",
    "    preprocessed_sysclient_0501_graph[0][child[0]] = np.hstack([np.array([child[1],child[2],0]), np.zeros(10)])"
   ]
  },
  {
   "cell_type": "code",
   "execution_count": 34,
   "metadata": {},
   "outputs": [
    {
     "name": "stdout",
     "output_type": "stream",
     "text": [
      "27644\n"
     ]
    }
   ],
   "source": [
    "sysclient501_labels = label_df[label_df['hostname']=='SysClient0501.systemia.com']\n",
    "print(len(sysclient501_labels))"
   ]
  },
  {
   "cell_type": "code",
   "execution_count": 35,
   "metadata": {},
   "outputs": [],
   "source": [
    "malicious_events_501 = dict()\n",
    "query_event_id_actor_id = \"select * from \\\"SysClient0501Events\\\" where \\\"actorID\\\"=\\'{}\\' and \\\"event_id\\\"=\\'{}\\';\"\n",
    "for idx,row in sysclient501_labels.iterrows():\n",
    "    if row['object'] in ['PROCESS','FILE','SHELL']:\n",
    "        result_set = session.execute(query_event_id_actor_id.format(row['actorID'],row['id']))\n",
    "        for result in result_set:\n",
    "            malicious_events_501[result.id] = result\n",
    "    elif row['object'] == 'FLOW' and row['action']=='MESSAGE':\n",
    "        result_set = session.execute(query_event_id_actor_id.format(row['actorID'],row['id']))\n",
    "        for result in result_set:\n",
    "            malicious_events_501[result.id] = result"
   ]
  },
  {
   "cell_type": "code",
   "execution_count": 36,
   "metadata": {},
   "outputs": [
    {
     "name": "stdout",
     "output_type": "stream",
     "text": [
      "22928\n"
     ]
    }
   ],
   "source": [
    "print(len(malicious_events_501))"
   ]
  },
  {
   "cell_type": "code",
   "execution_count": 37,
   "metadata": {},
   "outputs": [],
   "source": [
    "def get_501trace(start_node):\n",
    "    trace = []\n",
    "    temp_node = start_node\n",
    "    trace.append(temp_node)\n",
    "    while True:\n",
    "        if temp_node in back_graph_501:\n",
    "            temp_node = back_graph_501[temp_node]\n",
    "            trace.append(temp_node)\n",
    "        else:\n",
    "            break\n",
    "            \n",
    "    return trace"
   ]
  },
  {
   "cell_type": "code",
   "execution_count": 38,
   "metadata": {},
   "outputs": [
    {
     "name": "stdout",
     "output_type": "stream",
     "text": [
      "Average trace length: 8.479239357990231\n",
      "Maximum Length of Trace: 10\n",
      "Average benign trace length:5.42661\n",
      "Maximum Benign Trace Length:21\n"
     ]
    }
   ],
   "source": [
    "malicious501_event_traces = []\n",
    "\n",
    "for node in malicious_events_501:\n",
    "    malicious501_event_traces.append(get_501trace(node))\n",
    "\n",
    "\n",
    "num = len(malicious501_event_traces)\n",
    "total = 0\n",
    "max_len = -1\n",
    "for trace in malicious501_event_traces:\n",
    "    total += len(trace)\n",
    "    if len(trace)>max_len:\n",
    "        max_len = len(trace)\n",
    "print(\"Average trace length: {}\".format(total/num))\n",
    "print(\"Maximum Length of Trace: {}\".format(max_len))\n",
    "benign501_event_traces = []\n",
    "\n",
    "count_benign_trace = 0\n",
    "start_idx = 7000000\n",
    "\n",
    "while count_benign_trace<500000:\n",
    "    #get a random index\n",
    "    rand_index = np.random.randint(start_idx, high = event_count)\n",
    "    if rand_index not in malicious_events_501:\n",
    "        if rand_index in back_graph_501:\n",
    "            derived_trace = get_501trace(rand_index)\n",
    "            if derived_trace[-1] == 0:\n",
    "                benign501_event_traces.append(derived_trace)\n",
    "                count_benign_trace+=1\n",
    "\n",
    "\n",
    "benign_len = 0\n",
    "benign_max_len = -1\n",
    "for trace in benign501_event_traces:\n",
    "    benign_len += len(trace)\n",
    "    if len(trace)>benign_max_len:\n",
    "        benign_max_len = len(trace)\n",
    "        \n",
    "print(\"Average benign trace length:{}\".format(benign_len/len(benign501_event_traces)))\n",
    "print(\"Maximum Benign Trace Length:{}\".format(benign_max_len))"
   ]
  },
  {
   "cell_type": "code",
   "execution_count": 39,
   "metadata": {},
   "outputs": [],
   "source": [
    "def transform0501_trace(trace, cutoff=8):\n",
    "    numeric_trace = np.zeros((cutoff,13)) # Length of the trace and 13 corresponding points for each node\n",
    "    \n",
    "    for k in range(len(trace)):\n",
    "        if trace[k] in back_graph_501:\n",
    "            parent = back_graph_501[trace[k]]\n",
    "            numeric_trace[k] = preprocessed_sysclient_0501_graph[parent][trace[k]]    \n",
    "\n",
    "        if k==cutoff-1:\n",
    "            break\n",
    "    \n",
    "    return numeric_trace\n",
    "\n",
    "\n",
    "def train_generator501( cutoff=8, batch_size = 32):\n",
    "    while True:\n",
    "        labels= np.random.randint(2,size=batch_size)\n",
    "        num_malicious = np.sum(labels)\n",
    "        num_benign = batch_size - num_malicious\n",
    "        \n",
    "        benign_data_indices = np.random.randint(0,high=400000, size = num_benign)\n",
    "        malicious_data_indices = np.random.randint(0, high = 15000, size = num_malicious)\n",
    "\n",
    "        benign_idx = 0\n",
    "        malicious_idx = 0\n",
    "\n",
    "        trace_cutoff = cutoff\n",
    "        features = 13\n",
    "\n",
    "        data = np.zeros((batch_size, trace_cutoff, features))\n",
    "        idx = 0\n",
    "        for label in labels:\n",
    "            if label ==0:\n",
    "                data[idx] = transform0501_trace(benign501_event_traces[benign_data_indices[benign_idx]], cutoff=trace_cutoff)\n",
    "                benign_idx += 1\n",
    "                idx+=1\n",
    "            elif label == 1:\n",
    "                data[idx] = transform0501_trace(malicious501_event_traces[malicious_data_indices[malicious_idx]], cutoff=trace_cutoff)\n",
    "                malicious_idx += 1\n",
    "                idx +=1 \n",
    "        \n",
    "        yield [data[:,:,:3],data[:,:,3:]], labels"
   ]
  },
  {
   "cell_type": "code",
   "execution_count": 40,
   "metadata": {},
   "outputs": [
    {
     "name": "stdout",
     "output_type": "stream",
     "text": [
      "Model: \"model_1\"\n",
      "__________________________________________________________________________________________________\n",
      "Layer (type)                    Output Shape         Param #     Connected to                     \n",
      "==================================================================================================\n",
      "input_3 (InputLayer)            [(None, 4, 3)]       0                                            \n",
      "__________________________________________________________________________________________________\n",
      "input_4 (InputLayer)            [(None, 4, 10)]      0                                            \n",
      "__________________________________________________________________________________________________\n",
      "lstm_2 (LSTM)                   (None, 4, 32)        4608        input_3[0][0]                    \n",
      "__________________________________________________________________________________________________\n",
      "lstm_3 (LSTM)                   (None, 4, 16)        1728        input_4[0][0]                    \n",
      "__________________________________________________________________________________________________\n",
      "flatten_2 (Flatten)             (None, 128)          0           lstm_2[0][0]                     \n",
      "__________________________________________________________________________________________________\n",
      "flatten_3 (Flatten)             (None, 64)           0           lstm_3[0][0]                     \n",
      "__________________________________________________________________________________________________\n",
      "concatenate_1 (Concatenate)     (None, 192)          0           flatten_2[0][0]                  \n",
      "                                                                 flatten_3[0][0]                  \n",
      "__________________________________________________________________________________________________\n",
      "dense_3 (Dense)                 (None, 32)           6176        concatenate_1[0][0]              \n",
      "__________________________________________________________________________________________________\n",
      "dropout_1 (Dropout)             (None, 32)           0           dense_3[0][0]                    \n",
      "__________________________________________________________________________________________________\n",
      "dense_4 (Dense)                 (None, 16)           528         dropout_1[0][0]                  \n",
      "__________________________________________________________________________________________________\n",
      "dense_5 (Dense)                 (None, 1)            17          dense_4[0][0]                    \n",
      "==================================================================================================\n",
      "Total params: 13,057\n",
      "Trainable params: 13,057\n",
      "Non-trainable params: 0\n",
      "__________________________________________________________________________________________________\n"
     ]
    }
   ],
   "source": [
    "trace_length = 4\n",
    "trace_dimension1 = 3\n",
    "trace_dimension2 = 10\n",
    "baseline_model_501 = multi_head_lstm_model((trace_length,trace_dimension1),(trace_length,trace_dimension2))\n",
    "opt = tf.keras.optimizers.Adam(learning_rate=0.001)\n",
    "baseline_model_501.compile(optimizer=opt, loss = 'binary_crossentropy', metrics=['accuracy'])"
   ]
  },
  {
   "cell_type": "code",
   "execution_count": 41,
   "metadata": {},
   "outputs": [
    {
     "name": "stderr",
     "output_type": "stream",
     "text": [
      "/home/monowar/anaconda3/envs/envphase2/lib/python3.9/site-packages/tensorflow/python/keras/engine/training.py:1940: UserWarning: `Model.fit_generator` is deprecated and will be removed in a future version. Please use `Model.fit`, which supports generators.\n",
      "  warnings.warn('`Model.fit_generator` is deprecated and '\n"
     ]
    },
    {
     "name": "stdout",
     "output_type": "stream",
     "text": [
      "Epoch 1/20\n",
      "5/5 [==============================] - 2s 23ms/step - loss: 0.6463 - accuracy: 0.5816\n",
      "Epoch 2/20\n",
      "5/5 [==============================] - 0s 30ms/step - loss: 0.5759 - accuracy: 0.7150\n",
      "Epoch 3/20\n",
      "5/5 [==============================] - 0s 27ms/step - loss: 0.5247 - accuracy: 0.7902\n",
      "Epoch 4/20\n",
      "5/5 [==============================] - 0s 29ms/step - loss: 0.4716 - accuracy: 0.8506\n",
      "Epoch 5/20\n",
      "5/5 [==============================] - 0s 24ms/step - loss: 0.4349 - accuracy: 0.8781\n",
      "Epoch 6/20\n",
      "5/5 [==============================] - 0s 26ms/step - loss: 0.3968 - accuracy: 0.9125\n",
      "Epoch 7/20\n",
      "5/5 [==============================] - 0s 27ms/step - loss: 0.3463 - accuracy: 0.9453\n",
      "Epoch 8/20\n",
      "5/5 [==============================] - 0s 28ms/step - loss: 0.3098 - accuracy: 0.9531\n",
      "Epoch 9/20\n",
      "5/5 [==============================] - 0s 23ms/step - loss: 0.2566 - accuracy: 0.9645\n",
      "Epoch 10/20\n",
      "5/5 [==============================] - 0s 29ms/step - loss: 0.2094 - accuracy: 0.9629\n",
      "Epoch 11/20\n",
      "5/5 [==============================] - 0s 25ms/step - loss: 0.1648 - accuracy: 0.9666\n",
      "Epoch 12/20\n",
      "5/5 [==============================] - 0s 25ms/step - loss: 0.1316 - accuracy: 0.9711\n",
      "Epoch 13/20\n",
      "5/5 [==============================] - 0s 23ms/step - loss: 0.1036 - accuracy: 0.9748\n",
      "Epoch 14/20\n",
      "5/5 [==============================] - 0s 27ms/step - loss: 0.0888 - accuracy: 0.9764\n",
      "Epoch 15/20\n",
      "5/5 [==============================] - 0s 28ms/step - loss: 0.0699 - accuracy: 0.9816\n",
      "Epoch 16/20\n",
      "5/5 [==============================] - 0s 27ms/step - loss: 0.0599 - accuracy: 0.9820\n",
      "Epoch 17/20\n",
      "5/5 [==============================] - 0s 24ms/step - loss: 0.0535 - accuracy: 0.9828\n",
      "Epoch 18/20\n",
      "5/5 [==============================] - 0s 23ms/step - loss: 0.0438 - accuracy: 0.9885\n",
      "Epoch 19/20\n",
      "5/5 [==============================] - 0s 27ms/step - loss: 0.0410 - accuracy: 0.9885\n",
      "Epoch 20/20\n",
      "5/5 [==============================] - 0s 25ms/step - loss: 0.0315 - accuracy: 0.9922\n"
     ]
    }
   ],
   "source": [
    "train_gen_501 = train_generator501(cutoff=4, batch_size=1024)\n",
    "history_501 = baseline_model_501.fit_generator(train_gen_501, steps_per_epoch=5, epochs=20)"
   ]
  },
  {
   "cell_type": "code",
   "execution_count": 42,
   "metadata": {},
   "outputs": [],
   "source": [
    "malicious_event_count_in_graph = 22928\n",
    "def get_test_data501():\n",
    "    total_count = (malicious_event_count_in_graph-15000)+ 100000\n",
    "    data = np.zeros((total_count, trace_length, 13))\n",
    "    labels = np.hstack(( np.ones((malicious_event_count_in_graph-15000)), np.zeros(100000) ))\n",
    "    \n",
    "    idx = 0\n",
    "    \n",
    "    for i in range(15000, malicious_event_count_in_graph, 1):\n",
    "        data[idx] = transform0501_trace(malicious501_event_traces[i],cutoff=trace_length)\n",
    "        idx+=1\n",
    "    \n",
    "    for i in range(400000,500000,1):\n",
    "        data[idx] = transform0501_trace(benign501_event_traces[i],cutoff=trace_length)\n",
    "        idx+=1\n",
    "\n",
    "    return [data[:,:,:3],data[:,:,3:]],labels"
   ]
  },
  {
   "cell_type": "code",
   "execution_count": 43,
   "metadata": {},
   "outputs": [],
   "source": [
    "x_test501, y_test501 = get_test_data501()"
   ]
  },
  {
   "cell_type": "code",
   "execution_count": 44,
   "metadata": {},
   "outputs": [
    {
     "name": "stdout",
     "output_type": "stream",
     "text": [
      "              precision    recall  f1-score   support\n",
      "\n",
      "         0.0       1.00      0.99      1.00    100000\n",
      "         1.0       0.91      1.00      0.95      7928\n",
      "\n",
      "    accuracy                           0.99    107928\n",
      "   macro avg       0.96      0.99      0.97    107928\n",
      "weighted avg       0.99      0.99      0.99    107928\n",
      "\n"
     ]
    }
   ],
   "source": [
    "y_pred501 = baseline_model_501.predict(x_test501)\n",
    "y_pred501_bool = y_pred501.round()\n",
    "print(classification_report(y_test501, y_pred501_bool))"
   ]
  },
  {
   "cell_type": "code",
   "execution_count": 45,
   "metadata": {},
   "outputs": [
    {
     "name": "stdout",
     "output_type": "stream",
     "text": [
      "99258 742 32 7896\n",
      "0.004036326942482341\n"
     ]
    }
   ],
   "source": [
    "tn, fp, fn, tp = sk.metrics.confusion_matrix(y_test501, y_pred501_bool).ravel()\n",
    "print(tn, fp, fn, tp)\n",
    "print(fn/(fn+tp))"
   ]
  },
  {
   "cell_type": "code",
   "execution_count": 46,
   "metadata": {},
   "outputs": [
    {
     "data": {
      "text/plain": [
       "0.00742"
      ]
     },
     "execution_count": 46,
     "metadata": {},
     "output_type": "execute_result"
    }
   ],
   "source": [
    "fp/(fp+tn)"
   ]
  },
  {
   "cell_type": "markdown",
   "metadata": {},
   "source": [
    "# <p style=\"font-size:60px;color:white;font-family:'Courier New'\" >SYSCLIENT 0051 ANALYSIS</p>"
   ]
  },
  {
   "cell_type": "code",
   "execution_count": 47,
   "metadata": {},
   "outputs": [],
   "source": [
    "sysclient0051_sorted_graph_path = '/mnt/8tb/csenrc/data/ecar/benign/dirty_sorted_graph051.json'\n",
    "sysclient_0051_graph = dict()\n",
    "with open(sysclient0051_sorted_graph_path,'r') as graph_file:\n",
    "    sysclient_0051_graph = json.load(graph_file)\n",
    "graph_file.close()"
   ]
  },
  {
   "cell_type": "code",
   "execution_count": 48,
   "metadata": {},
   "outputs": [],
   "source": [
    "back_graph_051 = dict()\n",
    "for key in sysclient_0051_graph:\n",
    "    children = sysclient_0051_graph[key]\n",
    "    for child in children:\n",
    "        back_graph_051[child[0]] = int(key)"
   ]
  },
  {
   "cell_type": "code",
   "execution_count": 49,
   "metadata": {},
   "outputs": [],
   "source": [
    "preprocessed_sysclient_0051_graph = dict()\n",
    "for key in sysclient_0051_graph:\n",
    "    if int(key) != 0:\n",
    "        preprocessed_sysclient_0051_graph[int(key)] = preprocess_adjacency_list(sysclient_0051_graph[key])\n",
    "\n",
    "\n",
    "preprocessed_sysclient_0051_graph[0] = dict()\n",
    "children = sysclient_0051_graph['0']\n",
    "for child in children:\n",
    "    preprocessed_sysclient_0051_graph[0][child[0]] = np.hstack([np.array([child[1],child[2],0]), np.zeros(10)])"
   ]
  },
  {
   "cell_type": "code",
   "execution_count": 50,
   "metadata": {},
   "outputs": [
    {
     "name": "stdout",
     "output_type": "stream",
     "text": [
      "5215\n",
      "2265\n"
     ]
    }
   ],
   "source": [
    "sysclient051_labels = label_df[label_df['hostname']=='SysClient0051.systemia.com']\n",
    "print(len(sysclient051_labels))\n",
    "\n",
    "\n",
    "malicious_events_051 = dict()\n",
    "query_event_id_actor_id = \"select * from \\\"SysClient0051Events\\\" where \\\"actorID\\\"=\\'{}\\' and \\\"event_id\\\"=\\'{}\\';\"\n",
    "for idx,row in sysclient051_labels.iterrows():\n",
    "    if row['object'] in ['PROCESS','FILE','SHELL']:\n",
    "        result_set = session.execute(query_event_id_actor_id.format(row['actorID'],row['id']))\n",
    "        for result in result_set:\n",
    "            malicious_events_051[result.id] = result\n",
    "    elif row['object'] == 'FLOW' and row['action']=='MESSAGE':\n",
    "        result_set = session.execute(query_event_id_actor_id.format(row['actorID'],row['id']))\n",
    "        for result in result_set:\n",
    "            malicious_events_051[result.id] = result\n",
    "\n",
    "\n",
    "print(len(malicious_events_051))"
   ]
  },
  {
   "cell_type": "code",
   "execution_count": 51,
   "metadata": {},
   "outputs": [],
   "source": [
    "def get_051trace(start_node):\n",
    "    trace = []\n",
    "    temp_node = start_node\n",
    "    trace.append(temp_node)\n",
    "    while True:\n",
    "        if temp_node in back_graph_051:\n",
    "            temp_node = back_graph_051[temp_node]\n",
    "            trace.append(temp_node)\n",
    "        else:\n",
    "            break\n",
    "            \n",
    "    return trace"
   ]
  },
  {
   "cell_type": "code",
   "execution_count": 52,
   "metadata": {},
   "outputs": [
    {
     "name": "stdout",
     "output_type": "stream",
     "text": [
      "Average trace length: 14.341721854304636\n",
      "Maximum Length of Trace: 21\n",
      "Average benign trace length:9.001262\n",
      "Maximum Benign Trace Length:32\n"
     ]
    }
   ],
   "source": [
    "malicious051_event_traces = []\n",
    "\n",
    "for node in malicious_events_051:\n",
    "    malicious051_event_traces.append(get_051trace(node))\n",
    "\n",
    "\n",
    "num = len(malicious051_event_traces)\n",
    "total = 0\n",
    "max_len = -1\n",
    "for trace in malicious051_event_traces:\n",
    "    total += len(trace)\n",
    "    if len(trace)>max_len:\n",
    "        max_len = len(trace)\n",
    "print(\"Average trace length: {}\".format(total/num))\n",
    "print(\"Maximum Length of Trace: {}\".format(max_len))\n",
    "\n",
    "\n",
    "benign051_event_traces = []\n",
    "\n",
    "count_benign_trace = 0\n",
    "start_idx = 7000000\n",
    "\n",
    "while count_benign_trace<500000:\n",
    "    #get a random index\n",
    "    rand_index = np.random.randint(start_idx, high = event_count)\n",
    "    if rand_index not in malicious_events_051:\n",
    "        if rand_index in back_graph_051:\n",
    "            derived_trace = get_051trace(rand_index)\n",
    "            if derived_trace[-1] == 0:\n",
    "                benign051_event_traces.append(derived_trace)\n",
    "                count_benign_trace+=1\n",
    "\n",
    "\n",
    "benign_len = 0\n",
    "benign_max_len = -1\n",
    "for trace in benign051_event_traces:\n",
    "    benign_len += len(trace)\n",
    "    if len(trace)>benign_max_len:\n",
    "        benign_max_len = len(trace)\n",
    "        \n",
    "print(\"Average benign trace length:{}\".format(benign_len/len(benign051_event_traces)))\n",
    "print(\"Maximum Benign Trace Length:{}\".format(benign_max_len))"
   ]
  },
  {
   "cell_type": "code",
   "execution_count": 53,
   "metadata": {},
   "outputs": [],
   "source": [
    "def transform0051_trace(trace, cutoff=8):\n",
    "    numeric_trace = np.zeros((cutoff,13)) # Length of the trace and 13 corresponding points for each node\n",
    "    \n",
    "    for k in range(len(trace)):\n",
    "        if trace[k] in back_graph_051:\n",
    "            parent = back_graph_051[trace[k]]\n",
    "            numeric_trace[k] = preprocessed_sysclient_0051_graph[parent][trace[k]]    \n",
    "\n",
    "        if k==cutoff-1:\n",
    "            break\n",
    "    \n",
    "    return numeric_trace\n",
    "\n",
    "\n",
    "def train_generator051( cutoff=8, batch_size = 32):\n",
    "    while True:\n",
    "        labels= np.random.randint(2,size=batch_size)\n",
    "        num_malicious = np.sum(labels)\n",
    "        num_benign = batch_size - num_malicious\n",
    "        \n",
    "        benign_data_indices = np.random.randint(0,high=400000, size = num_benign)\n",
    "        malicious_data_indices = np.random.randint(0, high = 2000, size = num_malicious)\n",
    "\n",
    "        benign_idx = 0\n",
    "        malicious_idx = 0\n",
    "\n",
    "        trace_cutoff = cutoff\n",
    "        features = 13\n",
    "\n",
    "        data = np.zeros((batch_size, trace_cutoff, features))\n",
    "        idx = 0\n",
    "        for label in labels:\n",
    "            if label ==0:\n",
    "                data[idx] = transform0051_trace(benign051_event_traces[benign_data_indices[benign_idx]], cutoff=trace_cutoff)\n",
    "                benign_idx += 1\n",
    "                idx+=1\n",
    "            elif label == 1:\n",
    "                data[idx] = transform0051_trace(malicious051_event_traces[malicious_data_indices[malicious_idx]], cutoff=trace_cutoff)\n",
    "                malicious_idx += 1\n",
    "                idx +=1 \n",
    "        \n",
    "        yield [data[:,:,:3],data[:,:,3:]], labels"
   ]
  },
  {
   "cell_type": "code",
   "execution_count": 54,
   "metadata": {},
   "outputs": [
    {
     "name": "stdout",
     "output_type": "stream",
     "text": [
      "Model: \"model_2\"\n",
      "__________________________________________________________________________________________________\n",
      "Layer (type)                    Output Shape         Param #     Connected to                     \n",
      "==================================================================================================\n",
      "input_5 (InputLayer)            [(None, 4, 3)]       0                                            \n",
      "__________________________________________________________________________________________________\n",
      "input_6 (InputLayer)            [(None, 4, 10)]      0                                            \n",
      "__________________________________________________________________________________________________\n",
      "lstm_4 (LSTM)                   (None, 4, 32)        4608        input_5[0][0]                    \n",
      "__________________________________________________________________________________________________\n",
      "lstm_5 (LSTM)                   (None, 4, 16)        1728        input_6[0][0]                    \n",
      "__________________________________________________________________________________________________\n",
      "flatten_4 (Flatten)             (None, 128)          0           lstm_4[0][0]                     \n",
      "__________________________________________________________________________________________________\n",
      "flatten_5 (Flatten)             (None, 64)           0           lstm_5[0][0]                     \n",
      "__________________________________________________________________________________________________\n",
      "concatenate_2 (Concatenate)     (None, 192)          0           flatten_4[0][0]                  \n",
      "                                                                 flatten_5[0][0]                  \n",
      "__________________________________________________________________________________________________\n",
      "dense_6 (Dense)                 (None, 32)           6176        concatenate_2[0][0]              \n",
      "__________________________________________________________________________________________________\n",
      "dropout_2 (Dropout)             (None, 32)           0           dense_6[0][0]                    \n",
      "__________________________________________________________________________________________________\n",
      "dense_7 (Dense)                 (None, 16)           528         dropout_2[0][0]                  \n",
      "__________________________________________________________________________________________________\n",
      "dense_8 (Dense)                 (None, 1)            17          dense_7[0][0]                    \n",
      "==================================================================================================\n",
      "Total params: 13,057\n",
      "Trainable params: 13,057\n",
      "Non-trainable params: 0\n",
      "__________________________________________________________________________________________________\n"
     ]
    }
   ],
   "source": [
    "trace_length = 4\n",
    "trace_dimension1 = 3\n",
    "trace_dimension2 = 10\n",
    "baseline_model_051 = multi_head_lstm_model((trace_length,trace_dimension1),(trace_length,trace_dimension2))\n",
    "opt = tf.keras.optimizers.Adam(learning_rate=0.001)\n",
    "baseline_model_051.compile(optimizer=opt, loss = 'binary_crossentropy', metrics=['accuracy'])"
   ]
  },
  {
   "cell_type": "code",
   "execution_count": 55,
   "metadata": {},
   "outputs": [
    {
     "name": "stderr",
     "output_type": "stream",
     "text": [
      "/home/monowar/anaconda3/envs/envphase2/lib/python3.9/site-packages/tensorflow/python/keras/engine/training.py:1940: UserWarning: `Model.fit_generator` is deprecated and will be removed in a future version. Please use `Model.fit`, which supports generators.\n",
      "  warnings.warn('`Model.fit_generator` is deprecated and '\n"
     ]
    },
    {
     "name": "stdout",
     "output_type": "stream",
     "text": [
      "Epoch 1/20\n",
      "5/5 [==============================] - 2s 27ms/step - loss: 0.6601 - accuracy: 0.6781\n",
      "Epoch 2/20\n",
      "5/5 [==============================] - 0s 31ms/step - loss: 0.6089 - accuracy: 0.8340\n",
      "Epoch 3/20\n",
      "5/5 [==============================] - 0s 28ms/step - loss: 0.5502 - accuracy: 0.8803\n",
      "Epoch 4/20\n",
      "5/5 [==============================] - 0s 26ms/step - loss: 0.4901 - accuracy: 0.9004\n",
      "Epoch 5/20\n",
      "5/5 [==============================] - 0s 30ms/step - loss: 0.4299 - accuracy: 0.9189\n",
      "Epoch 6/20\n",
      "5/5 [==============================] - 0s 26ms/step - loss: 0.3680 - accuracy: 0.9420\n",
      "Epoch 7/20\n",
      "5/5 [==============================] - 0s 29ms/step - loss: 0.3008 - accuracy: 0.9566\n",
      "Epoch 8/20\n",
      "5/5 [==============================] - 0s 24ms/step - loss: 0.2646 - accuracy: 0.9547\n",
      "Epoch 9/20\n",
      "5/5 [==============================] - 0s 28ms/step - loss: 0.2172 - accuracy: 0.9615\n",
      "Epoch 10/20\n",
      "5/5 [==============================] - 0s 25ms/step - loss: 0.1747 - accuracy: 0.9707\n",
      "Epoch 11/20\n",
      "5/5 [==============================] - 0s 24ms/step - loss: 0.1432 - accuracy: 0.9742\n",
      "Epoch 12/20\n",
      "5/5 [==============================] - 0s 31ms/step - loss: 0.1338 - accuracy: 0.9701\n",
      "Epoch 13/20\n",
      "5/5 [==============================] - 0s 27ms/step - loss: 0.1123 - accuracy: 0.9730\n",
      "Epoch 14/20\n",
      "5/5 [==============================] - 0s 25ms/step - loss: 0.0947 - accuracy: 0.9748\n",
      "Epoch 15/20\n",
      "5/5 [==============================] - 0s 30ms/step - loss: 0.0804 - accuracy: 0.9773\n",
      "Epoch 16/20\n",
      "5/5 [==============================] - 0s 27ms/step - loss: 0.0905 - accuracy: 0.9729\n",
      "Epoch 17/20\n",
      "5/5 [==============================] - 0s 25ms/step - loss: 0.0715 - accuracy: 0.9785\n",
      "Epoch 18/20\n",
      "5/5 [==============================] - 0s 23ms/step - loss: 0.0706 - accuracy: 0.9797\n",
      "Epoch 19/20\n",
      "5/5 [==============================] - 0s 23ms/step - loss: 0.0554 - accuracy: 0.9848\n",
      "Epoch 20/20\n",
      "5/5 [==============================] - 0s 22ms/step - loss: 0.0510 - accuracy: 0.9875\n"
     ]
    }
   ],
   "source": [
    "train_gen_051 = train_generator051(cutoff=4, batch_size=1024)\n",
    "history_051 = baseline_model_051.fit_generator(train_gen_051, steps_per_epoch=5, epochs=20)"
   ]
  },
  {
   "cell_type": "code",
   "execution_count": 56,
   "metadata": {},
   "outputs": [],
   "source": [
    "malicious_event_count_in_graph = 2265\n",
    "\n",
    "def get_test_data051():\n",
    "    total_count = (malicious_event_count_in_graph-2000)+ 100000\n",
    "    data = np.zeros((total_count, trace_length, 13))\n",
    "    labels = np.hstack(( np.ones((malicious_event_count_in_graph-2000)), np.zeros(100000) ))\n",
    "    \n",
    "    idx = 0\n",
    "    \n",
    "    for i in range(2000, malicious_event_count_in_graph, 1):\n",
    "        data[idx] = transform0051_trace(malicious051_event_traces[i],cutoff=trace_length)\n",
    "        idx+=1\n",
    "    \n",
    "    for i in range(400000,500000,1):\n",
    "        data[idx] = transform0051_trace(benign051_event_traces[i],cutoff=trace_length)\n",
    "        idx+=1\n",
    "\n",
    "    return [data[:,:,:3],data[:,:,3:]],labels\n",
    "\n",
    "\n",
    "def get_test_data051full():\n",
    "    total_count = (malicious_event_count_in_graph)+ 200000\n",
    "    data = np.zeros((total_count, trace_length, 13))\n",
    "    labels = np.hstack(( np.ones((malicious_event_count_in_graph)), np.zeros(200000) ))\n",
    "    \n",
    "    idx = 0\n",
    "    \n",
    "    for i in range(malicious_event_count_in_graph):\n",
    "        data[idx] = transform0051_trace(malicious051_event_traces[i],cutoff=trace_length)\n",
    "        idx+=1\n",
    "    \n",
    "    for i in range(100000,300000,1):\n",
    "        data[idx] = transform0051_trace(benign051_event_traces[i],cutoff=trace_length)\n",
    "        idx+=1\n",
    "\n",
    "    return [data[:,:,:3],data[:,:,3:]],labels"
   ]
  },
  {
   "cell_type": "code",
   "execution_count": 57,
   "metadata": {},
   "outputs": [],
   "source": [
    "x_test051, y_test051 = get_test_data051()"
   ]
  },
  {
   "cell_type": "code",
   "execution_count": 58,
   "metadata": {},
   "outputs": [
    {
     "name": "stdout",
     "output_type": "stream",
     "text": [
      "              precision    recall  f1-score   support\n",
      "\n",
      "         0.0       1.00      0.99      0.99    100000\n",
      "         1.0       0.19      1.00      0.32       265\n",
      "\n",
      "    accuracy                           0.99    100265\n",
      "   macro avg       0.60      0.99      0.66    100265\n",
      "weighted avg       1.00      0.99      0.99    100265\n",
      "\n"
     ]
    }
   ],
   "source": [
    "y_pred051 = baseline_model_051.predict(x_test051)\n",
    "y_pred051_bool = y_pred051.round()\n",
    "print(classification_report(y_test051, y_pred051_bool))"
   ]
  },
  {
   "cell_type": "code",
   "execution_count": 59,
   "metadata": {},
   "outputs": [
    {
     "name": "stdout",
     "output_type": "stream",
     "text": [
      "98886 1114 0 265\n",
      "0.0\n",
      "0.01114\n"
     ]
    }
   ],
   "source": [
    "tn, fp, fn, tp = sk.metrics.confusion_matrix(y_test051, y_pred051_bool).ravel()\n",
    "print(tn, fp, fn, tp)\n",
    "print(fn/(fn+tp))\n",
    "print(fp/(fp+tn))"
   ]
  },
  {
   "cell_type": "code",
   "execution_count": 60,
   "metadata": {},
   "outputs": [],
   "source": [
    "x_test051full, y_test051full = get_test_data051full()"
   ]
  },
  {
   "cell_type": "code",
   "execution_count": 61,
   "metadata": {},
   "outputs": [
    {
     "name": "stdout",
     "output_type": "stream",
     "text": [
      "(202265, 4, 3)\n"
     ]
    }
   ],
   "source": [
    "print(x_test051full[0].shape)"
   ]
  },
  {
   "cell_type": "code",
   "execution_count": 62,
   "metadata": {},
   "outputs": [
    {
     "name": "stdout",
     "output_type": "stream",
     "text": [
      "              precision    recall  f1-score   support\n",
      "\n",
      "         0.0       0.99      0.99      0.99    200000\n",
      "         1.0       0.18      0.16      0.17      2265\n",
      "\n",
      "    accuracy                           0.98    202265\n",
      "   macro avg       0.59      0.57      0.58    202265\n",
      "weighted avg       0.98      0.98      0.98    202265\n",
      "\n"
     ]
    }
   ],
   "source": [
    "y_pred051_from501 = baseline_model_501.predict(x_test051full)\n",
    "y_pred051_from501_bool = y_pred051_from501.round()\n",
    "print(classification_report(y_test051full, y_pred051_from501_bool))"
   ]
  },
  {
   "cell_type": "code",
   "execution_count": 63,
   "metadata": {},
   "outputs": [
    {
     "name": "stdout",
     "output_type": "stream",
     "text": [
      "198423 1577 1911 354\n",
      "0.8437086092715231\n",
      "0.007885\n"
     ]
    }
   ],
   "source": [
    "tn, fp, fn, tp = sk.metrics.confusion_matrix(y_test051full, y_pred051_from501_bool).ravel()\n",
    "print(tn, fp, fn, tp)\n",
    "print(fn/(fn+tp))\n",
    "print(fp/(fp+tn))"
   ]
  },
  {
   "cell_type": "markdown",
   "metadata": {},
   "source": [
    "# <p style=\"font-size:60px;color:white;font-family:'Courier New'\" >BAYESAIN NETWORK</p> Let's Try Bayesian Model and try getting some answers among hosts"
   ]
  },
  {
   "cell_type": "code",
   "execution_count": 64,
   "metadata": {},
   "outputs": [],
   "source": [
    "def bayesian_model(input_shape1, input_shape2):\n",
    "    input_layer1 = Input(shape = input_shape1)\n",
    "    input_layer2 = Input(shape = input_shape2)\n",
    "    \n",
    "    x1 = layers.LSTM(128, return_sequences=True)(input_layer1)\n",
    "    x2 = layers.LSTM(256, return_sequences=True)(input_layer2)\n",
    "\n",
    "    x1 = layers.Flatten()(x1)\n",
    "    x2 = layers.Flatten()(x2)\n",
    "\n",
    "    x = layers.Concatenate()([x1,x2])\n",
    "\n",
    "    bnn_layer1 = tfp.python.layers.DenseFlipout(128, activation = 'relu')(x)\n",
    "    bnn_layer2 = tfp.python.layers.DenseFlipout(64, activation = 'relu')(bnn_layer1)\n",
    "    classification_layer = tfp.python.layers.DenseFlipout(1,activation = None)(bnn_layer2)\n",
    "\n",
    "    bnn_model = Model([input_layer1,input_layer2],classification_layer)\n",
    "\n",
    "    return bnn_model\n"
   ]
  },
  {
   "cell_type": "code",
   "execution_count": 65,
   "metadata": {},
   "outputs": [],
   "source": [
    "@tf.function\n",
    "def elbo_loss(labels, logits):\n",
    "    loss_en = tf.nn.sigmoid_cross_entropy_with_logits(labels, logits)\n",
    "    loss_kl = tf.keras.losses.KLD(labels, logits)\n",
    "    loss = tf.reduce_mean(tf.add(loss_en, loss_kl))\n",
    "    return loss"
   ]
  },
  {
   "cell_type": "code",
   "execution_count": 66,
   "metadata": {},
   "outputs": [
    {
     "name": "stdout",
     "output_type": "stream",
     "text": [
      "Model: \"model_3\"\n",
      "__________________________________________________________________________________________________\n",
      "Layer (type)                    Output Shape         Param #     Connected to                     \n",
      "==================================================================================================\n",
      "input_7 (InputLayer)            [(None, 4, 3)]       0                                            \n",
      "__________________________________________________________________________________________________\n",
      "input_8 (InputLayer)            [(None, 4, 10)]      0                                            \n",
      "__________________________________________________________________________________________________\n",
      "lstm_6 (LSTM)                   (None, 4, 128)       67584       input_7[0][0]                    \n",
      "__________________________________________________________________________________________________\n",
      "lstm_7 (LSTM)                   (None, 4, 256)       273408      input_8[0][0]                    \n",
      "__________________________________________________________________________________________________\n",
      "flatten_6 (Flatten)             (None, 512)          0           lstm_6[0][0]                     \n",
      "__________________________________________________________________________________________________\n",
      "flatten_7 (Flatten)             (None, 1024)         0           lstm_7[0][0]                     \n",
      "__________________________________________________________________________________________________\n",
      "concatenate_3 (Concatenate)     (None, 1536)         0           flatten_6[0][0]                  \n",
      "                                                                 flatten_7[0][0]                  \n",
      "__________________________________________________________________________________________________\n",
      "dense_flipout (DenseFlipout)    (None, 128)          393344      concatenate_3[0][0]              \n",
      "__________________________________________________________________________________________________\n",
      "dense_flipout_1 (DenseFlipout)  (None, 64)           16448       dense_flipout[0][0]              \n",
      "__________________________________________________________________________________________________\n",
      "dense_flipout_2 (DenseFlipout)  (None, 1)            129         dense_flipout_1[0][0]            \n",
      "==================================================================================================\n",
      "Total params: 750,913\n",
      "Trainable params: 750,913\n",
      "Non-trainable params: 0\n",
      "__________________________________________________________________________________________________\n"
     ]
    },
    {
     "name": "stderr",
     "output_type": "stream",
     "text": [
      "/home/monowar/anaconda3/envs/envphase2/lib/python3.9/site-packages/tensorflow/python/keras/engine/base_layer.py:2191: UserWarning: `layer.add_variable` is deprecated and will be removed in a future version. Please use `layer.add_weight` method instead.\n",
      "  warnings.warn('`layer.add_variable` is deprecated and '\n",
      "/home/monowar/anaconda3/envs/envphase2/lib/python3.9/site-packages/tensorflow/python/keras/optimizer_v2/optimizer_v2.py:374: UserWarning: The `lr` argument is deprecated, use `learning_rate` instead.\n",
      "  warnings.warn(\n"
     ]
    }
   ],
   "source": [
    "bnn = bayesian_model((trace_length,trace_dimension1),(trace_length,trace_dimension2))\n",
    "bnn.summary()\n",
    "optimizer = tf.keras.optimizers.Adam(lr=0.001)"
   ]
  },
  {
   "cell_type": "code",
   "execution_count": 67,
   "metadata": {},
   "outputs": [],
   "source": [
    "def logit2p(logits):\n",
    "    return 1/(1+ np.exp(-logits))"
   ]
  },
  {
   "cell_type": "code",
   "execution_count": 68,
   "metadata": {},
   "outputs": [],
   "source": [
    "#@tf.function\n",
    "def train_step(traces, labels):\n",
    "    with tf.GradientTape() as tape:\n",
    "        logits = bnn(traces)\n",
    "        loss = elbo_loss(labels, logits)\n",
    "    gradients = tape.gradient(loss, bnn.trainable_variables)\n",
    "    optimizer.apply_gradients(zip(gradients, bnn.trainable_variables))\n",
    "    return loss\n",
    "\n",
    "def accuracy(preds, labels):\n",
    "    # print(logit2p(preds[:10]))\n",
    "    # print(labels[:10])\n",
    "    y_prob = 1/(1+ np.exp(-preds))\n",
    "    y_prob = np.array(y_prob).round()\n",
    "    return 1 - np.mean(np.abs(y_prob-labels))\n",
    "    #return np.mean(np.argmax(preds, axis=1) == np.argmax(labels, axis=1))\n"
   ]
  },
  {
   "cell_type": "code",
   "execution_count": 69,
   "metadata": {},
   "outputs": [],
   "source": [
    "import time"
   ]
  },
  {
   "cell_type": "code",
   "execution_count": 70,
   "metadata": {},
   "outputs": [
    {
     "name": "stdout",
     "output_type": "stream",
     "text": [
      "Epoch: 0: loss =   6.568 , accuracy =   0.953, time:   0.613\n",
      "Epoch: 10: loss =   0.112 , accuracy =   0.969, time:   0.360\n",
      "Epoch: 20: loss =   0.076 , accuracy =   0.995, time:   0.367\n",
      "Epoch: 30: loss =   0.008 , accuracy =   1.000, time:   0.396\n",
      "Epoch: 40: loss =   0.006 , accuracy =   0.999, time:   0.407\n",
      "Epoch: 50: loss =   0.006 , accuracy =   1.000, time:   0.413\n",
      "Epoch: 60: loss =   0.004 , accuracy =   1.000, time:   0.439\n",
      "Epoch: 70: loss =   0.005 , accuracy =   0.999, time:   0.465\n",
      "Epoch: 80: loss =   0.003 , accuracy =   1.000, time:   0.458\n",
      "Epoch: 90: loss =   0.001 , accuracy =   1.000, time:   0.452\n"
     ]
    }
   ],
   "source": [
    "times = []\n",
    "accs = []\n",
    "preds_by_epoch = []\n",
    "labels_to_preds = []\n",
    "losses = []\n",
    "\n",
    "for i in range(100):\n",
    "    tic = time.time()\n",
    "    \n",
    "    X_train, Y_train = train_gen.__next__()\n",
    "    Y_train = Y_train[:, np.newaxis].astype('f')\n",
    "    \n",
    "    labels_to_preds.append(Y_train)\n",
    "    \n",
    "    loss = train_step(X_train, Y_train)\n",
    "    preds = bnn(X_train)\n",
    "    acc = accuracy(preds, Y_train)\n",
    "    \n",
    "    \n",
    "    \n",
    "    accs.append(acc)\n",
    "    losses.append(loss)\n",
    "    preds_by_epoch.append(logit2p(preds))\n",
    "  \n",
    "    tac = time.time()\n",
    "    train_time = tac-tic\n",
    "    times.append(train_time)\n",
    "    if i%10 == 0 :\n",
    "        print(\"Epoch: {}: loss = {:7.3f} , accuracy = {:7.3f}, time: {:7.3f}\".format(i, loss, acc, train_time))"
   ]
  },
  {
   "cell_type": "code",
   "execution_count": 71,
   "metadata": {},
   "outputs": [
    {
     "name": "stdout",
     "output_type": "stream",
     "text": [
      "0.000005904\n",
      "0.999822438\n",
      "0.000000007\n",
      "0.999583781\n",
      "0.999599755\n",
      "0.000000362\n",
      "0.000000008\n",
      "0.999922276\n",
      "0.000000265\n",
      "0.999975324\n",
      "0.000000010\n",
      "0.999952316\n",
      "0.998731792\n",
      "0.000000044\n",
      "0.000000049\n",
      "0.000000217\n",
      "0.998293459\n",
      "0.000000003\n",
      "0.000000000\n",
      "0.999806821\n"
     ]
    }
   ],
   "source": [
    "# print(np.mean(np.abs(preds_by_epoch[0].round()-labels_to_preds[0])))\n",
    "# print(labels_to_preds[0][:20])\n",
    "for x in preds_by_epoch[99][0:20]:\n",
    "    print(\"{:7.9f}\".format(x[0]))"
   ]
  },
  {
   "cell_type": "markdown",
   "metadata": {},
   "source": [
    "# Testing on the 0201 BNN with the 0201 data. I will quantify uncertainty and the accuracy score."
   ]
  },
  {
   "cell_type": "code",
   "execution_count": 72,
   "metadata": {},
   "outputs": [],
   "source": [
    "number_of_prediction_round = 10\n",
    "num_test_examples = 106919\n",
    "\n",
    "test_predictions = np.zeros((number_of_prediction_round, num_test_examples))\n",
    "\n",
    "for i in range(number_of_prediction_round):\n",
    "    test_predictions[i] = logit2p(bnn(x_test)).flatten()\n",
    "\n",
    "\n",
    "prediction_means = np.mean(test_predictions, axis = 0)\n",
    "standard_deviation = np.std(test_predictions, axis = 0)"
   ]
  },
  {
   "cell_type": "code",
   "execution_count": 73,
   "metadata": {},
   "outputs": [
    {
     "data": {
      "image/png": "[encoded data removed]",
      "text/plain": [
       "<Figure size 1440x360 with 1 Axes>"
      ]
     },
     "metadata": {
      "needs_background": "light"
     },
     "output_type": "display_data"
    }
   ],
   "source": [
    "plt.figure(figsize=(20,5))\n",
    "plt.grid(True)\n",
    "start_idx = 0\n",
    "end_idx = 500\n",
    "xlabels = np.arange(start_idx,end_idx,1)\n",
    "y_labels = prediction_means[start_idx:end_idx]\n",
    "error_labels = standard_deviation[start_idx:end_idx]\n",
    "\n",
    "plt.errorbar(xlabels, y_labels, yerr= error_labels, fmt='o')\n",
    "#plt.plot(xlabels, error_labels)\n",
    "plt.show()"
   ]
  },
  {
   "cell_type": "code",
   "execution_count": 74,
   "metadata": {},
   "outputs": [
    {
     "data": {
      "image/png": "[encoded data removed]",
      "text/plain": [
       "<Figure size 1440x360 with 1 Axes>"
      ]
     },
     "metadata": {
      "needs_background": "light"
     },
     "output_type": "display_data"
    }
   ],
   "source": [
    "plt.figure(figsize=(20,5))\n",
    "plt.grid(True)\n",
    "start_idx = 7000\n",
    "end_idx = 8500\n",
    "xlabels = np.arange(start_idx,end_idx,1)\n",
    "y_labels = prediction_means[start_idx:end_idx]\n",
    "error_labels = standard_deviation[start_idx:end_idx]\n",
    "\n",
    "plt.errorbar(xlabels, y_labels, yerr= error_labels, fmt='o')\n",
    "#plt.plot(xlabels, error_labels)\n",
    "plt.show()"
   ]
  },
  {
   "cell_type": "code",
   "execution_count": 75,
   "metadata": {},
   "outputs": [
    {
     "name": "stdout",
     "output_type": "stream",
     "text": [
      "0.9995884735173356\n"
     ]
    }
   ],
   "source": [
    "diff = np.sum(prediction_means.round() - y_test)\n",
    "print( (num_test_examples -  diff)/num_test_examples)"
   ]
  },
  {
   "cell_type": "markdown",
   "metadata": {},
   "source": [
    "# Let's test the BNN on data from HOST 0051 . ;)"
   ]
  },
  {
   "cell_type": "code",
   "execution_count": 76,
   "metadata": {},
   "outputs": [],
   "source": [
    "number_of_prediction_round = 15 \n",
    "number_of_examples = x_test051full[0].shape[0]\n",
    "\n",
    "different_host_preds = np.zeros((number_of_prediction_round, number_of_examples))\n",
    "\n",
    "for i in range(number_of_prediction_round):\n",
    "    different_host_preds[i] = logit2p(bnn(x_test051full)).flatten()\n"
   ]
  },
  {
   "cell_type": "code",
   "execution_count": 77,
   "metadata": {},
   "outputs": [],
   "source": [
    "different_host_mean_preds = np.mean(different_host_preds, axis = 0)\n",
    "diferent_host_std_dev_preds = np.std(different_host_preds, axis = 0)"
   ]
  },
  {
   "cell_type": "code",
   "execution_count": 78,
   "metadata": {},
   "outputs": [
    {
     "data": {
      "image/png": "[encoded data removed]",
      "text/plain": [
       "<Figure size 1440x360 with 1 Axes>"
      ]
     },
     "metadata": {
      "needs_background": "light"
     },
     "output_type": "display_data"
    }
   ],
   "source": [
    "plt.figure(figsize=(20,5))\n",
    "plt.grid(True)\n",
    "start_idx = 0\n",
    "end_idx = 500\n",
    "xlabels = np.arange(start_idx,end_idx,1)\n",
    "y_labels = different_host_mean_preds[start_idx:end_idx]\n",
    "error_labels = diferent_host_std_dev_preds[start_idx:end_idx]\n",
    "\n",
    "plt.errorbar(xlabels, y_labels, yerr= error_labels, fmt='o')\n",
    "#plt.plot(xlabels, error_labels)\n",
    "plt.show()"
   ]
  },
  {
   "cell_type": "code",
   "execution_count": 79,
   "metadata": {},
   "outputs": [
    {
     "data": {
      "image/png": "[encoded data removed]",
      "text/plain": [
       "<Figure size 1440x360 with 1 Axes>"
      ]
     },
     "metadata": {
      "needs_background": "light"
     },
     "output_type": "display_data"
    }
   ],
   "source": [
    "plt.figure(figsize=(20,5))\n",
    "plt.grid(True)\n",
    "start_idx = 2265\n",
    "end_idx = 2765\n",
    "xlabels = np.arange(start_idx,end_idx,1)\n",
    "y_labels = different_host_mean_preds[start_idx:end_idx]\n",
    "error_labels = diferent_host_std_dev_preds[start_idx:end_idx]\n",
    "\n",
    "plt.errorbar(xlabels, y_labels, yerr= error_labels, fmt='o')\n",
    "#plt.plot(xlabels, error_labels)\n",
    "plt.show()"
   ]
  },
  {
   "cell_type": "markdown",
   "metadata": {},
   "source": [
    "# <p style=\"font-size:60px;color:white;font-family:'Courier New'\" >BAYESAIN NETWORK for host 0051</p>"
   ]
  },
  {
   "cell_type": "code",
   "execution_count": 80,
   "metadata": {},
   "outputs": [
    {
     "name": "stdout",
     "output_type": "stream",
     "text": [
      "Model: \"model_4\"\n",
      "__________________________________________________________________________________________________\n",
      "Layer (type)                    Output Shape         Param #     Connected to                     \n",
      "==================================================================================================\n",
      "input_9 (InputLayer)            [(None, 4, 3)]       0                                            \n",
      "__________________________________________________________________________________________________\n",
      "input_10 (InputLayer)           [(None, 4, 10)]      0                                            \n",
      "__________________________________________________________________________________________________\n",
      "lstm_8 (LSTM)                   (None, 4, 128)       67584       input_9[0][0]                    \n",
      "__________________________________________________________________________________________________\n",
      "lstm_9 (LSTM)                   (None, 4, 256)       273408      input_10[0][0]                   \n",
      "__________________________________________________________________________________________________\n",
      "flatten_8 (Flatten)             (None, 512)          0           lstm_8[0][0]                     \n",
      "__________________________________________________________________________________________________\n",
      "flatten_9 (Flatten)             (None, 1024)         0           lstm_9[0][0]                     \n",
      "__________________________________________________________________________________________________\n",
      "concatenate_4 (Concatenate)     (None, 1536)         0           flatten_8[0][0]                  \n",
      "                                                                 flatten_9[0][0]                  \n",
      "__________________________________________________________________________________________________\n",
      "dense_flipout_3 (DenseFlipout)  (None, 128)          393344      concatenate_4[0][0]              \n",
      "__________________________________________________________________________________________________\n",
      "dense_flipout_4 (DenseFlipout)  (None, 64)           16448       dense_flipout_3[0][0]            \n",
      "__________________________________________________________________________________________________\n",
      "dense_flipout_5 (DenseFlipout)  (None, 1)            129         dense_flipout_4[0][0]            \n",
      "==================================================================================================\n",
      "Total params: 750,913\n",
      "Trainable params: 750,913\n",
      "Non-trainable params: 0\n",
      "__________________________________________________________________________________________________\n"
     ]
    }
   ],
   "source": [
    "bnn_0051 = bayesian_model((trace_length,trace_dimension1),(trace_length,trace_dimension2))\n",
    "bnn_0051.summary()\n",
    "opt_0051 = tf.optimizers.Adam(learning_rate=0.001)"
   ]
  },
  {
   "cell_type": "code",
   "execution_count": 81,
   "metadata": {},
   "outputs": [],
   "source": [
    "#@tf.function\n",
    "def train_step051(traces, labels):\n",
    "    with tf.GradientTape() as tape:\n",
    "        logits = bnn_0051(traces)\n",
    "        loss = elbo_loss(labels, logits)\n",
    "    gradients = tape.gradient(loss, bnn_0051.trainable_variables)\n",
    "    opt_0051.apply_gradients(zip(gradients, bnn_0051.trainable_variables))\n",
    "    return loss\n",
    "\n"
   ]
  },
  {
   "cell_type": "code",
   "execution_count": 82,
   "metadata": {},
   "outputs": [
    {
     "name": "stdout",
     "output_type": "stream",
     "text": [
      "Epoch: 0: loss =   2.776 , accuracy =   0.596, time:   0.472\n",
      "Epoch: 10: loss =   0.365 , accuracy =   0.748, time:   0.356\n",
      "Epoch: 20: loss =   0.240 , accuracy =   0.893, time:   0.339\n",
      "Epoch: 30: loss =   0.139 , accuracy =   0.987, time:   0.362\n",
      "Epoch: 40: loss =   0.122 , accuracy =   0.982, time:   0.401\n",
      "Epoch: 50: loss =   0.080 , accuracy =   0.990, time:   0.398\n",
      "Epoch: 60: loss =   0.047 , accuracy =   0.995, time:   0.425\n",
      "Epoch: 70: loss =   0.029 , accuracy =   0.993, time:   0.451\n",
      "Epoch: 80: loss =   0.015 , accuracy =   0.998, time:   0.408\n",
      "Epoch: 90: loss =   0.018 , accuracy =   0.995, time:   0.456\n"
     ]
    }
   ],
   "source": [
    "# Training loop \n",
    "\n",
    "times_0051 = []\n",
    "accs_0051 = []\n",
    "preds_by_epoch_0051 = []\n",
    "labels_to_preds_0051 = []\n",
    "losses_0051 = []\n",
    "\n",
    "for i in range(100):\n",
    "    tic = time.time()\n",
    "    \n",
    "    X_train, Y_train = train_gen_051.__next__()\n",
    "    Y_train = Y_train[:, np.newaxis].astype('f')\n",
    "    \n",
    "    labels_to_preds_0051.append(Y_train)\n",
    "    \n",
    "    loss = train_step051(X_train, Y_train)\n",
    "    preds = bnn_0051(X_train)\n",
    "    acc = accuracy(preds, Y_train)\n",
    "    \n",
    "    \n",
    "    \n",
    "    accs_0051.append(acc)\n",
    "    losses_0051.append(loss)\n",
    "    preds_by_epoch_0051.append(logit2p(preds))\n",
    "  \n",
    "    tac = time.time()\n",
    "    train_time = tac-tic\n",
    "    times_0051.append(train_time)\n",
    "    if i%10 == 0 :\n",
    "        print(\"Epoch: {}: loss = {:7.3f} , accuracy = {:7.3f}, time: {:7.3f}\".format(i, loss, acc, train_time))"
   ]
  },
  {
   "cell_type": "code",
   "execution_count": 83,
   "metadata": {},
   "outputs": [],
   "source": [
    "number_of_prediction_round = 10\n",
    "num_test_examples_051 = x_test051[0].shape[0]\n",
    "\n",
    "test_predictions_051 = np.zeros((number_of_prediction_round, num_test_examples_051))\n",
    "\n",
    "for i in range(number_of_prediction_round):\n",
    "    test_predictions_051[i] = logit2p(bnn_0051(x_test051)).flatten()\n",
    "\n",
    "prediction_means051 = np.mean(test_predictions_051, axis = 0)\n",
    "standard_deviation051 = np.std(test_predictions_051, axis = 0)"
   ]
  },
  {
   "cell_type": "code",
   "execution_count": 84,
   "metadata": {},
   "outputs": [
    {
     "data": {
      "image/png": "[encoded data removed]",
      "text/plain": [
       "<Figure size 1440x360 with 1 Axes>"
      ]
     },
     "metadata": {
      "needs_background": "light"
     },
     "output_type": "display_data"
    }
   ],
   "source": [
    "plt.figure(figsize=(20,5))\n",
    "plt.grid(True)\n",
    "start_idx = 0\n",
    "end_idx = 5000\n",
    "xlabels = np.arange(start_idx,end_idx,1)\n",
    "y_labels = prediction_means051[start_idx:end_idx]\n",
    "error_labels = standard_deviation051[start_idx:end_idx]\n",
    "\n",
    "plt.errorbar(xlabels, y_labels, yerr= error_labels, fmt='o')\n",
    "#plt.plot(xlabels, error_labels)\n",
    "plt.show()"
   ]
  },
  {
   "cell_type": "code",
   "execution_count": 85,
   "metadata": {},
   "outputs": [],
   "source": [
    "number_of_prediction_round = 10\n",
    "num_test_examples_201= x_test[0].shape[0]\n",
    "\n",
    "test_predictions_201 = np.zeros((number_of_prediction_round, num_test_examples_201))\n",
    "\n",
    "for i in range(number_of_prediction_round):\n",
    "    test_predictions_201[i] = logit2p(bnn_0051(x_test)).flatten()\n",
    "\n",
    "prediction_means201 = np.mean(test_predictions_201, axis = 0)\n",
    "standard_deviation201 = np.std(test_predictions_201, axis = 0)"
   ]
  },
  {
   "cell_type": "code",
   "execution_count": 86,
   "metadata": {},
   "outputs": [
    {
     "data": {
      "image/png": "[encoded data removed]",
      "text/plain": [
       "<Figure size 1440x360 with 1 Axes>"
      ]
     },
     "metadata": {
      "needs_background": "light"
     },
     "output_type": "display_data"
    }
   ],
   "source": [
    "plt.figure(figsize=(20,5))\n",
    "plt.grid(True)\n",
    "start_idx = 0\n",
    "end_idx = 500\n",
    "xlabels = np.arange(start_idx,end_idx,1)\n",
    "y_labels = prediction_means201[start_idx:end_idx]\n",
    "error_labels = standard_deviation201[start_idx:end_idx]\n",
    "\n",
    "plt.errorbar(xlabels, y_labels, yerr= error_labels, fmt='o')\n",
    "#plt.plot(xlabels, error_labels)\n",
    "plt.show()"
   ]
  },
  {
   "cell_type": "code",
   "execution_count": 87,
   "metadata": {},
   "outputs": [
    {
     "data": {
      "image/png": "[encoded data removed]",
      "text/plain": [
       "<Figure size 1440x360 with 1 Axes>"
      ]
     },
     "metadata": {
      "needs_background": "light"
     },
     "output_type": "display_data"
    }
   ],
   "source": [
    "plt.figure(figsize=(20,5))\n",
    "plt.grid(True)\n",
    "start_idx = 0\n",
    "end_idx = 2*6919\n",
    "xlabels = np.arange(start_idx,end_idx,1)\n",
    "y_labels = prediction_means201[start_idx:end_idx]\n",
    "error_labels = standard_deviation201[start_idx:end_idx]\n",
    "\n",
    "plt.errorbar(xlabels, y_labels, yerr= error_labels, fmt='ko')\n",
    "#plt.plot(xlabels, error_labels)\n",
    "plt.show()"
   ]
  },
  {
   "cell_type": "code",
   "execution_count": 88,
   "metadata": {},
   "outputs": [],
   "source": [
    "# import os\n",
    "# model_folder = '/mnt/8tb/csenrc/data/ecar/benign/MonowarNNModel'\n",
    "# bnn_201_path = os.path.join(model_folder,'bnn_201.h5')\n",
    "# bnn.save(bnn_201_path)\n",
    "# bnn_0051_path = os.path.join(model_folder, 'bnn_051.h5')\n",
    "# bnn_0051.save(bnn_0051_path)"
   ]
  },
  {
   "cell_type": "code",
   "execution_count": 89,
   "metadata": {},
   "outputs": [],
   "source": [
    "number_of_prediction_round = 10\n",
    "num_test_examples_501= x_test501[0].shape[0]\n",
    "\n",
    "test_predictions_501 = np.zeros((number_of_prediction_round, num_test_examples_501))\n",
    "\n",
    "for i in range(number_of_prediction_round):\n",
    "    test_predictions_501[i] = logit2p(bnn_0051(x_test501)).flatten()\n",
    "\n",
    "prediction_means501 = np.mean(test_predictions_501, axis = 0)\n",
    "standard_deviation501 = np.std(test_predictions_501, axis = 0)"
   ]
  },
  {
   "cell_type": "code",
   "execution_count": 90,
   "metadata": {},
   "outputs": [
    {
     "data": {
      "image/png": "[encoded data removed]",
      "text/plain": [
       "<Figure size 1440x360 with 1 Axes>"
      ]
     },
     "metadata": {
      "needs_background": "light"
     },
     "output_type": "display_data"
    }
   ],
   "source": [
    "plt.figure(figsize=(20,5))\n",
    "plt.grid(True)\n",
    "start_idx = 0\n",
    "end_idx = 500\n",
    "xlabels = np.arange(start_idx,end_idx,1)\n",
    "y_labels = prediction_means501[start_idx:end_idx]\n",
    "error_labels = standard_deviation501[start_idx:end_idx]\n",
    "\n",
    "plt.errorbar(xlabels, y_labels, yerr= error_labels, fmt='o')\n",
    "#plt.plot(xlabels, error_labels)\n",
    "plt.show()"
   ]
  },
  {
   "cell_type": "code",
   "execution_count": 99,
   "metadata": {},
   "outputs": [
    {
     "data": {
      "image/png": "[encoded data removed]",
      "text/plain": [
       "<Figure size 1440x360 with 1 Axes>"
      ]
     },
     "metadata": {
      "needs_background": "light"
     },
     "output_type": "display_data"
    }
   ],
   "source": [
    "plt.figure(figsize=(20,5))\n",
    "plt.grid(True)\n",
    "start_idx = 35000\n",
    "end_idx = 40000\n",
    "xlabels = np.arange(start_idx,end_idx,1)\n",
    "y_labels = prediction_means501[start_idx:end_idx]\n",
    "error_labels = standard_deviation501[start_idx:end_idx]\n",
    "\n",
    "plt.errorbar(xlabels, y_labels, yerr= error_labels, fmt='o')\n",
    "#plt.plot(xlabels, error_labels)\n",
    "plt.show()"
   ]
  }
 ],
 "metadata": {
  "interpreter": {
   "hash": "665a62c52c30a950e7fccaf3521b9106f970c2783e502ad90065569173ef9bee"
  },
  "kernelspec": {
   "display_name": "Python 3",
   "language": "python",
   "name": "python3"
  },
  "language_info": {
   "codemirror_mode": {
    "name": "ipython",
    "version": 3
   },
   "file_extension": ".py",
   "mimetype": "text/x-python",
   "name": "python",
   "nbconvert_exporter": "python",
   "pygments_lexer": "ipython3",
   "version": "3.9.5"
  }
 },
 "nbformat": 4,
 "nbformat_minor": 4
}
